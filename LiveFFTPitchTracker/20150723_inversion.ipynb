{
 "cells": [
  {
   "cell_type": "markdown",
   "metadata": {},
   "source": [
    "# 1ère partie : anciennes cordes, $\\mu_i$ mal choisis "
   ]
  },
  {
   "cell_type": "markdown",
   "metadata": {},
   "source": [
    "## Importation des données après deux désaccordages "
   ]
  },
  {
   "cell_type": "markdown",
   "metadata": {},
   "source": [
    "On va tout d'abord importer les données mesurées pour en déduire les $\\rho_i$."
   ]
  },
  {
   "cell_type": "code",
   "execution_count": 1,
   "metadata": {
    "collapsed": true
   },
   "outputs": [],
   "source": [
    "data = \"\"\"79,05\t102,40\t115,40\t126,10\t217,50\t240,70\n",
    "82,4\t101,5\t114,1\t123,1\t215,8\t239\n",
    "81,90\t104,80\t113,20\t121,50\t214,20\t237,50\"\"\""
   ]
  },
  {
   "cell_type": "code",
   "execution_count": 2,
   "metadata": {
    "collapsed": true
   },
   "outputs": [],
   "source": [
    "data = data.replace(',', '.')"
   ]
  },
  {
   "cell_type": "code",
   "execution_count": 3,
   "metadata": {
    "collapsed": true
   },
   "outputs": [],
   "source": [
    "lines = data.split('\\n')"
   ]
  },
  {
   "cell_type": "code",
   "execution_count": 4,
   "metadata": {
    "collapsed": true
   },
   "outputs": [],
   "source": [
    "values = [line.split('\\t') for line in lines]"
   ]
  },
  {
   "cell_type": "code",
   "execution_count": 5,
   "metadata": {
    "collapsed": false
   },
   "outputs": [
    {
     "data": {
      "text/plain": [
       "[['79.05', '102.40', '115.40', '126.10', '217.50', '240.70'],\n",
       " ['82.4', '101.5', '114.1', '123.1', '215.8', '239'],\n",
       " ['81.90', '104.80', '113.20', '121.50', '214.20', '237.50']]"
      ]
     },
     "execution_count": 5,
     "metadata": {},
     "output_type": "execute_result"
    }
   ],
   "source": [
    "values"
   ]
  },
  {
   "cell_type": "code",
   "execution_count": 6,
   "metadata": {
    "collapsed": true
   },
   "outputs": [],
   "source": [
    "import numpy as np"
   ]
  },
  {
   "cell_type": "code",
   "execution_count": 7,
   "metadata": {
    "collapsed": true
   },
   "outputs": [],
   "source": [
    "import pandas as pd"
   ]
  },
  {
   "cell_type": "code",
   "execution_count": 8,
   "metadata": {
    "collapsed": false
   },
   "outputs": [],
   "source": [
    "s = pd.DataFrame(values)"
   ]
  },
  {
   "cell_type": "code",
   "execution_count": 9,
   "metadata": {
    "collapsed": false
   },
   "outputs": [
    {
     "data": {
      "text/html": [
       "<div style=\"max-height:1000px;max-width:1500px;overflow:auto;\">\n",
       "<table border=\"1\" class=\"dataframe\">\n",
       "  <thead>\n",
       "    <tr style=\"text-align: right;\">\n",
       "      <th></th>\n",
       "      <th>0</th>\n",
       "      <th>1</th>\n",
       "      <th>2</th>\n",
       "      <th>3</th>\n",
       "      <th>4</th>\n",
       "      <th>5</th>\n",
       "    </tr>\n",
       "  </thead>\n",
       "  <tbody>\n",
       "    <tr>\n",
       "      <th>0</th>\n",
       "      <td> 79.05</td>\n",
       "      <td> 102.40</td>\n",
       "      <td> 115.40</td>\n",
       "      <td> 126.10</td>\n",
       "      <td> 217.50</td>\n",
       "      <td> 240.70</td>\n",
       "    </tr>\n",
       "    <tr>\n",
       "      <th>1</th>\n",
       "      <td>  82.4</td>\n",
       "      <td>  101.5</td>\n",
       "      <td>  114.1</td>\n",
       "      <td>  123.1</td>\n",
       "      <td>  215.8</td>\n",
       "      <td>    239</td>\n",
       "    </tr>\n",
       "    <tr>\n",
       "      <th>2</th>\n",
       "      <td> 81.90</td>\n",
       "      <td> 104.80</td>\n",
       "      <td> 113.20</td>\n",
       "      <td> 121.50</td>\n",
       "      <td> 214.20</td>\n",
       "      <td> 237.50</td>\n",
       "    </tr>\n",
       "  </tbody>\n",
       "</table>\n",
       "</div>"
      ],
      "text/plain": [
       "       0       1       2       3       4       5\n",
       "0  79.05  102.40  115.40  126.10  217.50  240.70\n",
       "1   82.4   101.5   114.1   123.1   215.8     239\n",
       "2  81.90  104.80  113.20  121.50  214.20  237.50"
      ]
     },
     "execution_count": 9,
     "metadata": {},
     "output_type": "execute_result"
    }
   ],
   "source": [
    "s"
   ]
  },
  {
   "cell_type": "code",
   "execution_count": 10,
   "metadata": {
    "collapsed": false
   },
   "outputs": [
    {
     "data": {
      "text/plain": [
       "array([[  79.05,  102.4 ,  115.4 ,  126.1 ,  217.5 ,  240.7 ],\n",
       "       [  82.4 ,  101.5 ,  114.1 ,  123.1 ,  215.8 ,  239.  ],\n",
       "       [  81.9 ,  104.8 ,  113.2 ,  121.5 ,  214.2 ,  237.5 ]])"
      ]
     },
     "execution_count": 10,
     "metadata": {},
     "output_type": "execute_result"
    }
   ],
   "source": [
    "s.values.astype(np.float)"
   ]
  },
  {
   "cell_type": "code",
   "execution_count": 11,
   "metadata": {
    "collapsed": false
   },
   "outputs": [],
   "source": [
    "df = pd.DataFrame(s.values.astype(np.float), columns=range(6))"
   ]
  },
  {
   "cell_type": "code",
   "execution_count": 12,
   "metadata": {
    "collapsed": false
   },
   "outputs": [
    {
     "data": {
      "text/html": [
       "<div style=\"max-height:1000px;max-width:1500px;overflow:auto;\">\n",
       "<table border=\"1\" class=\"dataframe\">\n",
       "  <thead>\n",
       "    <tr style=\"text-align: right;\">\n",
       "      <th></th>\n",
       "      <th>0</th>\n",
       "      <th>1</th>\n",
       "      <th>2</th>\n",
       "      <th>3</th>\n",
       "      <th>4</th>\n",
       "      <th>5</th>\n",
       "    </tr>\n",
       "  </thead>\n",
       "  <tbody>\n",
       "    <tr>\n",
       "      <th>0</th>\n",
       "      <td> 79.05</td>\n",
       "      <td> 102.4</td>\n",
       "      <td> 115.4</td>\n",
       "      <td> 126.1</td>\n",
       "      <td> 217.5</td>\n",
       "      <td> 240.7</td>\n",
       "    </tr>\n",
       "    <tr>\n",
       "      <th>1</th>\n",
       "      <td> 82.40</td>\n",
       "      <td> 101.5</td>\n",
       "      <td> 114.1</td>\n",
       "      <td> 123.1</td>\n",
       "      <td> 215.8</td>\n",
       "      <td> 239.0</td>\n",
       "    </tr>\n",
       "    <tr>\n",
       "      <th>2</th>\n",
       "      <td> 81.90</td>\n",
       "      <td> 104.8</td>\n",
       "      <td> 113.2</td>\n",
       "      <td> 121.5</td>\n",
       "      <td> 214.2</td>\n",
       "      <td> 237.5</td>\n",
       "    </tr>\n",
       "  </tbody>\n",
       "</table>\n",
       "</div>"
      ],
      "text/plain": [
       "       0      1      2      3      4      5\n",
       "0  79.05  102.4  115.4  126.1  217.5  240.7\n",
       "1  82.40  101.5  114.1  123.1  215.8  239.0\n",
       "2  81.90  104.8  113.2  121.5  214.2  237.5"
      ]
     },
     "execution_count": 12,
     "metadata": {},
     "output_type": "execute_result"
    }
   ],
   "source": [
    "df"
   ]
  },
  {
   "cell_type": "markdown",
   "metadata": {},
   "source": [
    "Il nous faut construire le vecteur des $\\Delta T _ i$ à partir des mesures de fréquences. On construit d'abord le vecteur des $F_i$"
   ]
  },
  {
   "cell_type": "code",
   "execution_count": 13,
   "metadata": {
    "collapsed": false
   },
   "outputs": [
    {
     "data": {
      "text/html": [
       "<div style=\"max-height:1000px;max-width:1500px;overflow:auto;\">\n",
       "<table border=\"1\" class=\"dataframe\">\n",
       "  <thead>\n",
       "    <tr style=\"text-align: right;\">\n",
       "      <th></th>\n",
       "      <th>0</th>\n",
       "      <th>1</th>\n",
       "      <th>2</th>\n",
       "      <th>3</th>\n",
       "      <th>4</th>\n",
       "      <th>5</th>\n",
       "    </tr>\n",
       "  </thead>\n",
       "  <tbody>\n",
       "    <tr>\n",
       "      <th>0</th>\n",
       "      <td> 6248.9025</td>\n",
       "      <td> 10485.76</td>\n",
       "      <td> 13317.16</td>\n",
       "      <td> 15901.21</td>\n",
       "      <td> 47306.25</td>\n",
       "      <td> 57936.49</td>\n",
       "    </tr>\n",
       "    <tr>\n",
       "      <th>1</th>\n",
       "      <td> 6789.7600</td>\n",
       "      <td> 10302.25</td>\n",
       "      <td> 13018.81</td>\n",
       "      <td> 15153.61</td>\n",
       "      <td> 46569.64</td>\n",
       "      <td> 57121.00</td>\n",
       "    </tr>\n",
       "    <tr>\n",
       "      <th>2</th>\n",
       "      <td> 6707.6100</td>\n",
       "      <td> 10983.04</td>\n",
       "      <td> 12814.24</td>\n",
       "      <td> 14762.25</td>\n",
       "      <td> 45881.64</td>\n",
       "      <td> 56406.25</td>\n",
       "    </tr>\n",
       "  </tbody>\n",
       "</table>\n",
       "</div>"
      ],
      "text/plain": [
       "           0         1         2         3         4         5\n",
       "0  6248.9025  10485.76  13317.16  15901.21  47306.25  57936.49\n",
       "1  6789.7600  10302.25  13018.81  15153.61  46569.64  57121.00\n",
       "2  6707.6100  10983.04  12814.24  14762.25  45881.64  56406.25"
      ]
     },
     "execution_count": 13,
     "metadata": {},
     "output_type": "execute_result"
    }
   ],
   "source": [
    "df ** 2"
   ]
  },
  {
   "cell_type": "code",
   "execution_count": 14,
   "metadata": {
    "collapsed": false
   },
   "outputs": [
    {
     "data": {
      "text/plain": [
       "6248.9024999999992"
      ]
     },
     "execution_count": 14,
     "metadata": {},
     "output_type": "execute_result"
    }
   ],
   "source": [
    "(df ** 2).ix[0][0]\n"
   ]
  },
  {
   "cell_type": "markdown",
   "metadata": {},
   "source": [
    "**note importante** : j'utilise ici des $mu_i$ qui sont lus sur une pochette de cordes. Je n'ai aucune garantie que cela soient bien les vrais $mu_i$ nécessaires aux cordes qui sont sur ma guitare !"
   ]
  },
  {
   "cell_type": "code",
   "execution_count": 46,
   "metadata": {
    "collapsed": false
   },
   "outputs": [
    {
     "data": {
      "text/plain": [
       "array([ 0.00824942,  0.0056041 ,  0.00304088,  0.00128166,  0.00077511,\n",
       "        0.00047849])"
      ]
     },
     "execution_count": 46,
     "metadata": {},
     "output_type": "execute_result"
    }
   ],
   "source": [
    "freqs = np.array([82.4, 110., 146.8, 196., 246.9, 329.6]) # frequencies of the guitar strings, from low E to high E, in Hz\n",
    "calibration_tensions = np.array([9.59, 11.61, 11.22, 8.43, 8.09, 8.9]) * 9.81 # calibration tensions found on package (in kg) converted to N\n",
    "mu = calibration_tensions / (4 * 0.648**2 * freqs**2) \n",
    "mu"
   ]
  },
  {
   "cell_type": "code",
   "execution_count": 47,
   "metadata": {
    "collapsed": true
   },
   "outputs": [],
   "source": [
    "psi = 4 * 0.648**2 * mu"
   ]
  },
  {
   "cell_type": "code",
   "execution_count": 48,
   "metadata": {
    "collapsed": false
   },
   "outputs": [
    {
     "data": {
      "text/plain": [
       "array([ 0.01385585,  0.00941274,  0.00510752,  0.0021527 ,  0.00130189,\n",
       "        0.00080368])"
      ]
     },
     "execution_count": 48,
     "metadata": {},
     "output_type": "execute_result"
    }
   ],
   "source": [
    "psi"
   ]
  },
  {
   "cell_type": "code",
   "execution_count": 49,
   "metadata": {
    "collapsed": false
   },
   "outputs": [
    {
     "data": {
      "text/plain": [
       "array([[  86.5838593 ,   98.69968579,   68.01761049,   34.23060795,\n",
       "          61.58768385,   46.56255344],\n",
       "       [  94.0779    ,   96.97235469,   66.49378303,   32.62124599,\n",
       "          60.62869632,   45.90715825],\n",
       "       [  92.93964188,  103.38045091,   65.44893844,   31.77876351,\n",
       "          59.73299382,   45.33272606]])"
      ]
     },
     "execution_count": 49,
     "metadata": {},
     "output_type": "execute_result"
    }
   ],
   "source": [
    "T = (df ** 2).values * psi\n",
    "T"
   ]
  },
  {
   "cell_type": "markdown",
   "metadata": {},
   "source": [
    "**attention** les tensions sont bien en Newton, pas en kg comme dans la feuille Numbers."
   ]
  },
  {
   "cell_type": "markdown",
   "metadata": {},
   "source": [
    "## Construction de la matrice à inverser pour obtenir les raideurs du modèle "
   ]
  },
  {
   "cell_type": "markdown",
   "metadata": {},
   "source": [
    "On peut maintenant construire une première matrice de 5 lignes fois 6 colonnes."
   ]
  },
  {
   "cell_type": "code",
   "execution_count": 50,
   "metadata": {
    "collapsed": false
   },
   "outputs": [
    {
     "data": {
      "text/plain": [
       "array([ 7.4940407 , -1.7273311 , -1.52382746, -1.60936196, -0.95898753,\n",
       "       -0.65539519])"
      ]
     },
     "execution_count": 50,
     "metadata": {},
     "output_type": "execute_result"
    }
   ],
   "source": [
    "T_end = T[1, :]\n",
    "T_start = T[0, :]\n",
    "\n",
    "mat = np.zeros((5, 6))\n",
    "dT = T_end - T_start\n",
    "\n",
    "dT"
   ]
  },
  {
   "cell_type": "code",
   "execution_count": 51,
   "metadata": {
    "collapsed": false
   },
   "outputs": [
    {
     "data": {
      "text/plain": [
       "array([[ 0.,  0.,  0.,  0.,  0.,  0.],\n",
       "       [ 0.,  0.,  0.,  0.,  0.,  0.],\n",
       "       [ 0.,  0.,  0.,  0.,  0.,  0.],\n",
       "       [ 0.,  0.,  0.,  0.,  0.,  0.],\n",
       "       [ 0.,  0.,  0.,  0.,  0.,  0.]])"
      ]
     },
     "execution_count": 51,
     "metadata": {},
     "output_type": "execute_result"
    }
   ],
   "source": [
    "mat"
   ]
  },
  {
   "cell_type": "markdown",
   "metadata": {},
   "source": [
    "On s'attend à ce qu'il n'y ait qu'une valeur qui a augmenté, ici c'est la première."
   ]
  },
  {
   "cell_type": "code",
   "execution_count": 52,
   "metadata": {
    "collapsed": false
   },
   "outputs": [
    {
     "data": {
      "text/plain": [
       "(array([0]),)"
      ]
     },
     "execution_count": 52,
     "metadata": {},
     "output_type": "execute_result"
    }
   ],
   "source": [
    "np.nonzero(dT > 0)"
   ]
  },
  {
   "cell_type": "code",
   "execution_count": 53,
   "metadata": {
    "collapsed": true
   },
   "outputs": [],
   "source": [
    "tuned_string = np.nonzero(dT > 0)[0]\n",
    "assert tuned_string.size == 1\n",
    "tuned_string = tuned_string[0]"
   ]
  },
  {
   "cell_type": "code",
   "execution_count": 54,
   "metadata": {
    "collapsed": false
   },
   "outputs": [
    {
     "data": {
      "text/plain": [
       "0"
      ]
     },
     "execution_count": 54,
     "metadata": {},
     "output_type": "execute_result"
    }
   ],
   "source": [
    "tuned_string"
   ]
  },
  {
   "cell_type": "code",
   "execution_count": 55,
   "metadata": {
    "collapsed": false
   },
   "outputs": [],
   "source": [
    "\n",
    "cnt = 0\n",
    "for string in range(6):\n",
    "        if string == tuned_string:\n",
    "            continue\n",
    "        else:\n",
    "            for other_string in range(6):\n",
    "                if other_string == tuned_string:\n",
    "                    mat[cnt, other_string] = 0\n",
    "                elif other_string == string:\n",
    "                    mat[cnt, other_string] = dT[tuned_string] + dT[string]\n",
    "                else:\n",
    "                    mat[cnt, other_string] = dT[string]\n",
    "            cnt += 1"
   ]
  },
  {
   "cell_type": "code",
   "execution_count": 56,
   "metadata": {
    "collapsed": false
   },
   "outputs": [
    {
     "data": {
      "text/plain": [
       "array([ 0.       ,  5.7667096, -1.7273311, -1.7273311, -1.7273311,\n",
       "       -1.7273311])"
      ]
     },
     "execution_count": 56,
     "metadata": {},
     "output_type": "execute_result"
    }
   ],
   "source": [
    "mat[0]"
   ]
  },
  {
   "cell_type": "code",
   "execution_count": 57,
   "metadata": {
    "collapsed": false
   },
   "outputs": [
    {
     "data": {
      "text/plain": [
       "array([ 0.        , -1.52382746,  5.97021324, -1.52382746, -1.52382746,\n",
       "       -1.52382746])"
      ]
     },
     "execution_count": 57,
     "metadata": {},
     "output_type": "execute_result"
    }
   ],
   "source": [
    "mat[1]"
   ]
  },
  {
   "cell_type": "code",
   "execution_count": 58,
   "metadata": {
    "collapsed": false
   },
   "outputs": [
    {
     "data": {
      "text/plain": [
       "array([[ 0.        ,  5.7667096 , -1.7273311 , -1.7273311 , -1.7273311 ,\n",
       "        -1.7273311 ],\n",
       "       [ 0.        , -1.52382746,  5.97021324, -1.52382746, -1.52382746,\n",
       "        -1.52382746],\n",
       "       [ 0.        , -1.60936196, -1.60936196,  5.88467874, -1.60936196,\n",
       "        -1.60936196],\n",
       "       [ 0.        , -0.95898753, -0.95898753, -0.95898753,  6.53505317,\n",
       "        -0.95898753],\n",
       "       [ 0.        , -0.65539519, -0.65539519, -0.65539519, -0.65539519,\n",
       "         6.83864552]])"
      ]
     },
     "execution_count": 58,
     "metadata": {},
     "output_type": "execute_result"
    }
   ],
   "source": [
    "mat"
   ]
  },
  {
   "cell_type": "markdown",
   "metadata": {},
   "source": [
    "On peut écrire une fonction avec le code précédent :"
   ]
  },
  {
   "cell_type": "code",
   "execution_count": 134,
   "metadata": {
    "collapsed": false
   },
   "outputs": [],
   "source": [
    "def make_matrix(T_end, T_start):\n",
    "    \"\"\" builds the matrix that describes the effect of the individual rho_i on the \n",
    "    overall tuning change\n",
    "    M * [rho_i] = [dT]\n",
    "    \"\"\"\n",
    "    mat = np.zeros((5, 6))\n",
    "    dT = T_end - T_start\n",
    "    upstrings = np.nonzero(dT > 0)[0]\n",
    "    downstrings = np.nonzero(dT < 0)[0]\n",
    "\n",
    "    if (upstrings.size == 5) and (downstrings.size == 1):\n",
    "        tuned_string = downstrings[0]\n",
    "    elif (upstrings.size == 1) and (downstrings.size == 5):\n",
    "        tuned_string = upstrings[0]\n",
    "    else:\n",
    "        raise Exception('problem: no changed string was detected!')\n",
    "\n",
    "    cnt = 0\n",
    "    for string in range(6):\n",
    "            if string == tuned_string:\n",
    "                continue\n",
    "            else:\n",
    "                for other_string in range(6):\n",
    "                    if other_string == tuned_string:\n",
    "                        mat[cnt, other_string] = 0\n",
    "                    elif other_string == string:\n",
    "                        mat[cnt, other_string] = dT[tuned_string] + dT[string]\n",
    "                    else:\n",
    "                        mat[cnt, other_string] = dT[string]\n",
    "                cnt += 1\n",
    "\n",
    "    rhs = -dT[[_ for _ in range(6) if _ != tuned_string]] \n",
    "    return mat, rhs"
   ]
  },
  {
   "cell_type": "code",
   "execution_count": 135,
   "metadata": {
    "collapsed": false
   },
   "outputs": [
    {
     "data": {
      "text/plain": [
       "(array([[ 0.        ,  5.7667096 , -1.7273311 , -1.7273311 , -1.7273311 ,\n",
       "         -1.7273311 ],\n",
       "        [ 0.        , -1.52382746,  5.97021324, -1.52382746, -1.52382746,\n",
       "         -1.52382746],\n",
       "        [ 0.        , -1.60936196, -1.60936196,  5.88467874, -1.60936196,\n",
       "         -1.60936196],\n",
       "        [ 0.        , -0.95898753, -0.95898753, -0.95898753,  6.53505317,\n",
       "         -0.95898753],\n",
       "        [ 0.        , -0.65539519, -0.65539519, -0.65539519, -0.65539519,\n",
       "          6.83864552]]),\n",
       " array([ 1.7273311 ,  1.52382746,  1.60936196,  0.95898753,  0.65539519]))"
      ]
     },
     "execution_count": 135,
     "metadata": {},
     "output_type": "execute_result"
    }
   ],
   "source": [
    "make_matrix(T_end, T_start)"
   ]
  },
  {
   "cell_type": "markdown",
   "metadata": {},
   "source": [
    "On vérifie que le RHS est correct :"
   ]
  },
  {
   "cell_type": "code",
   "execution_count": 136,
   "metadata": {
    "collapsed": false
   },
   "outputs": [
    {
     "data": {
      "text/plain": [
       "array([ 7.4940407 , -1.7273311 , -1.52382746, -1.60936196, -0.95898753,\n",
       "       -0.65539519])"
      ]
     },
     "execution_count": 136,
     "metadata": {},
     "output_type": "execute_result"
    }
   ],
   "source": [
    "dT"
   ]
  },
  {
   "cell_type": "markdown",
   "metadata": {},
   "source": [
    "On peut maintenant construire les deux matrices :"
   ]
  },
  {
   "cell_type": "code",
   "execution_count": 137,
   "metadata": {
    "collapsed": true
   },
   "outputs": [],
   "source": [
    "mat1, rhs1 = make_matrix(T[1, :], T[0, :])\n",
    "mat2, rhs2 = make_matrix(T[2, :], T[1, :])"
   ]
  },
  {
   "cell_type": "code",
   "execution_count": 138,
   "metadata": {
    "collapsed": false
   },
   "outputs": [
    {
     "data": {
      "text/plain": [
       "array([[ 4.2994364 ,  0.        , -0.56407298, -0.56407298, -0.56407298,\n",
       "        -0.56407298],\n",
       "       [-0.2261193 ,  0.        ,  4.63739007, -0.2261193 , -0.2261193 ,\n",
       "        -0.2261193 ],\n",
       "       [-0.26421076,  0.        , -0.26421076,  4.59929862, -0.26421076,\n",
       "        -0.26421076],\n",
       "       [-0.11773104,  0.        , -0.11773104, -0.11773104,  4.74577834,\n",
       "        -0.11773104],\n",
       "       [-0.1058352 ,  0.        , -0.1058352 , -0.1058352 , -0.1058352 ,\n",
       "         4.75767417]])"
      ]
     },
     "execution_count": 138,
     "metadata": {},
     "output_type": "execute_result"
    }
   ],
   "source": [
    "mat2"
   ]
  },
  {
   "cell_type": "code",
   "execution_count": 139,
   "metadata": {
    "collapsed": false
   },
   "outputs": [
    {
     "data": {
      "text/plain": [
       "array([ 0.56407298,  0.2261193 ,  0.26421076,  0.11773104,  0.1058352 ])"
      ]
     },
     "execution_count": 139,
     "metadata": {},
     "output_type": "execute_result"
    }
   ],
   "source": [
    "rhs2"
   ]
  },
  {
   "cell_type": "markdown",
   "metadata": {},
   "source": [
    "On peut les concaténer :"
   ]
  },
  {
   "cell_type": "code",
   "execution_count": 140,
   "metadata": {
    "collapsed": false
   },
   "outputs": [],
   "source": [
    "total_mat = np.vstack((mat1, mat2))\n",
    "total_rhs = np.vstack((rhs1[:, np.newaxis], \n",
    "                       rhs2[:, np.newaxis]))"
   ]
  },
  {
   "cell_type": "code",
   "execution_count": 141,
   "metadata": {
    "collapsed": false
   },
   "outputs": [
    {
     "data": {
      "text/plain": [
       "array([[ 0.        , -4.4612643 ,  0.31964709,  0.31964709,  0.31964709,\n",
       "         0.31964709],\n",
       "       [ 0.        ,  0.2261193 , -4.55479209,  0.2261193 ,  0.2261193 ,\n",
       "         0.2261193 ],\n",
       "       [ 0.        ,  0.19820917,  0.19820917, -4.58270223,  0.19820917,\n",
       "         0.19820917],\n",
       "       [ 0.        ,  0.07850342,  0.07850342,  0.07850342, -4.70240798,\n",
       "         0.07850342],\n",
       "       [ 0.        ,  0.1058352 ,  0.1058352 ,  0.1058352 ,  0.1058352 ,\n",
       "        -4.67507619],\n",
       "       [ 4.2994364 ,  0.        , -0.56407298, -0.56407298, -0.56407298,\n",
       "        -0.56407298],\n",
       "       [-0.2261193 ,  0.        ,  4.63739007, -0.2261193 , -0.2261193 ,\n",
       "        -0.2261193 ],\n",
       "       [-0.26421076,  0.        , -0.26421076,  4.59929862, -0.26421076,\n",
       "        -0.26421076],\n",
       "       [-0.11773104,  0.        , -0.11773104, -0.11773104,  4.74577834,\n",
       "        -0.11773104],\n",
       "       [-0.1058352 ,  0.        , -0.1058352 , -0.1058352 , -0.1058352 ,\n",
       "         4.75767417]])"
      ]
     },
     "execution_count": 141,
     "metadata": {},
     "output_type": "execute_result"
    }
   ],
   "source": [
    "total_mat"
   ]
  },
  {
   "cell_type": "code",
   "execution_count": 142,
   "metadata": {
    "collapsed": false
   },
   "outputs": [
    {
     "data": {
      "text/plain": [
       "array([[-0.31964709],\n",
       "       [-0.2261193 ],\n",
       "       [-0.19820917],\n",
       "       [-0.07850342],\n",
       "       [-0.1058352 ],\n",
       "       [ 0.56407298],\n",
       "       [ 0.2261193 ],\n",
       "       [ 0.26421076],\n",
       "       [ 0.11773104],\n",
       "       [ 0.1058352 ]])"
      ]
     },
     "execution_count": 142,
     "metadata": {},
     "output_type": "execute_result"
    }
   ],
   "source": [
    "total_rhs"
   ]
  },
  {
   "cell_type": "markdown",
   "metadata": {},
   "source": [
    "## Inversion du système ainsi construit "
   ]
  },
  {
   "cell_type": "markdown",
   "metadata": {},
   "source": [
    "On peut maintenant inverser le système :"
   ]
  },
  {
   "cell_type": "code",
   "execution_count": 143,
   "metadata": {
    "collapsed": false
   },
   "outputs": [
    {
     "data": {
      "text/plain": [
       "(10, 6)"
      ]
     },
     "execution_count": 143,
     "metadata": {},
     "output_type": "execute_result"
    }
   ],
   "source": [
    "total_mat.shape"
   ]
  },
  {
   "cell_type": "code",
   "execution_count": 144,
   "metadata": {
    "collapsed": false
   },
   "outputs": [
    {
     "data": {
      "text/plain": [
       "(10, 1)"
      ]
     },
     "execution_count": 144,
     "metadata": {},
     "output_type": "execute_result"
    }
   ],
   "source": [
    "total_rhs.shape"
   ]
  },
  {
   "cell_type": "code",
   "execution_count": 145,
   "metadata": {
    "collapsed": false
   },
   "outputs": [],
   "source": [
    "rho, err, rank, eigs = np.linalg.lstsq(total_mat, total_rhs)"
   ]
  },
  {
   "cell_type": "code",
   "execution_count": 146,
   "metadata": {
    "collapsed": false
   },
   "outputs": [
    {
     "data": {
      "text/plain": [
       "array([ 0.00626796])"
      ]
     },
     "execution_count": 146,
     "metadata": {},
     "output_type": "execute_result"
    }
   ],
   "source": [
    "err"
   ]
  },
  {
   "cell_type": "code",
   "execution_count": 147,
   "metadata": {
    "collapsed": false
   },
   "outputs": [
    {
     "data": {
      "text/plain": [
       "array([[ 0.15357272],\n",
       "       [ 0.08504085],\n",
       "       [ 0.06070064],\n",
       "       [ 0.06238074],\n",
       "       [ 0.02644736],\n",
       "       [ 0.02833926]])"
      ]
     },
     "execution_count": 147,
     "metadata": {},
     "output_type": "execute_result"
    }
   ],
   "source": [
    "rho"
   ]
  },
  {
   "cell_type": "code",
   "execution_count": 148,
   "metadata": {
    "collapsed": false
   },
   "outputs": [
    {
     "data": {
      "text/plain": [
       "array([ 0.00626796])"
      ]
     },
     "execution_count": 148,
     "metadata": {},
     "output_type": "execute_result"
    }
   ],
   "source": [
    "err"
   ]
  },
  {
   "cell_type": "markdown",
   "metadata": {},
   "source": [
    "On a la solution ! \n",
    "\n",
    "**cependant** on note que les raideurs ne sont pas exactement dans l'ordre croissant !! Problème ou pas ?"
   ]
  },
  {
   "cell_type": "markdown",
   "metadata": {},
   "source": [
    "## Vérification des prédictions du modèle "
   ]
  },
  {
   "cell_type": "markdown",
   "metadata": {},
   "source": [
    "On peut maintenant voir si ces coefs permettent de bien prédire la variation de tension observée. On peut tout simplement repartir des matrices mat1 et mat2 et vérifier que l'on tombe bien sur ce qu'on veut."
   ]
  },
  {
   "cell_type": "code",
   "execution_count": 149,
   "metadata": {
    "collapsed": false
   },
   "outputs": [
    {
     "data": {
      "text/plain": [
       "array([[-0.32253471],\n",
       "       [-0.2307556 ],\n",
       "       [-0.24612583],\n",
       "       [-0.10580322],\n",
       "       [-0.10766249]])"
      ]
     },
     "execution_count": 149,
     "metadata": {},
     "output_type": "execute_result"
    }
   ],
   "source": [
    "np.dot(mat1, rho)"
   ]
  },
  {
   "cell_type": "code",
   "execution_count": 150,
   "metadata": {
    "collapsed": false
   },
   "outputs": [
    {
     "data": {
      "text/plain": [
       "array([-0.31964709, -0.2261193 , -0.19820917, -0.07850342, -0.1058352 ])"
      ]
     },
     "execution_count": 150,
     "metadata": {},
     "output_type": "execute_result"
    }
   ],
   "source": [
    "rhs1"
   ]
  },
  {
   "cell_type": "markdown",
   "metadata": {},
   "source": [
    "Mouai..."
   ]
  },
  {
   "cell_type": "code",
   "execution_count": 151,
   "metadata": {
    "collapsed": false
   },
   "outputs": [
    {
     "data": {
      "text/plain": [
       "array([[ 0.55994563],\n",
       "       [ 0.22027297],\n",
       "       [ 0.2158191 ],\n",
       "       [ 0.0896061 ],\n",
       "       [ 0.10275017]])"
      ]
     },
     "execution_count": 151,
     "metadata": {},
     "output_type": "execute_result"
    }
   ],
   "source": [
    "np.dot(mat2, rho)"
   ]
  },
  {
   "cell_type": "code",
   "execution_count": 152,
   "metadata": {
    "collapsed": false
   },
   "outputs": [
    {
     "data": {
      "text/plain": [
       "array([ 0.56407298,  0.2261193 ,  0.26421076,  0.11773104,  0.1058352 ])"
      ]
     },
     "execution_count": 152,
     "metadata": {},
     "output_type": "execute_result"
    }
   ],
   "source": [
    "rhs2"
   ]
  },
  {
   "cell_type": "markdown",
   "metadata": {},
   "source": [
    "Ceci est peut être dû à l'erreur à l'issue de la régression linéaire... on va quand même essayer d'implémenter la méthode d'inversion pour l'accordage.\n",
    "\n",
    "**ou au mauvais $\\mu_i$, qui ont été choisis... au hasard ?**"
   ]
  },
  {
   "cell_type": "markdown",
   "metadata": {},
   "source": [
    "## Construction de la matrice nécessaire à la méthode d'accordage "
   ]
  },
  {
   "cell_type": "markdown",
   "metadata": {},
   "source": [
    "Il faut ici encore construire la matrice responsable de l'accordage."
   ]
  },
  {
   "cell_type": "code",
   "execution_count": 153,
   "metadata": {
    "collapsed": true
   },
   "outputs": [],
   "source": [
    "tuning_mat = np.zeros((6, 6))\n",
    "\n",
    "for other_string in range(6):\n",
    "    for tuning_string in range(6):\n",
    "        if tuning_string == other_string:\n",
    "            tuning_mat[other_string, tuning_string] = 1.\n",
    "        else:\n",
    "            tuning_mat[other_string, tuning_string] = \\\n",
    "                    psi[tuning_string] / psi[other_string] * \\\n",
    "                        (- rho[other_string] / (1 + np.sum([rho[i] for i in range(6) if i != tuning_string])))"
   ]
  },
  {
   "cell_type": "code",
   "execution_count": 154,
   "metadata": {
    "collapsed": false
   },
   "outputs": [
    {
     "data": {
      "text/plain": [
       "array([[ 1.        , -0.0720598 , -0.03748629, -0.01683878, -0.00773359,\n",
       "        -0.0051728 ],\n",
       "       [-0.10778411,  1.        , -0.03322654, -0.01492531, -0.00685478,\n",
       "        -0.00458499],\n",
       "       [-0.1452357 , -0.08606456,  1.        , -0.02011139, -0.0092366 ,\n",
       "        -0.00617813],\n",
       "       [-0.33268321, -0.19714323, -0.10255604,  1.        , -0.02115776,\n",
       "        -0.0141519 ],\n",
       "       [-0.29916994, -0.17728376, -0.09222492, -0.04142729,  1.        ,\n",
       "        -0.01272629],\n",
       "       [-0.47992191, -0.28439474, -0.14794521, -0.06645676, -0.03052175,\n",
       "         1.        ]])"
      ]
     },
     "execution_count": 154,
     "metadata": {},
     "output_type": "execute_result"
    }
   ],
   "source": [
    "tuning_mat"
   ]
  },
  {
   "cell_type": "code",
   "execution_count": 155,
   "metadata": {
    "collapsed": false
   },
   "outputs": [
    {
     "data": {
      "text/plain": [
       "array([ 1.        , -0.10778411, -0.1452357 , -0.33268321, -0.29916994,\n",
       "       -0.47992191])"
      ]
     },
     "execution_count": 155,
     "metadata": {},
     "output_type": "execute_result"
    }
   ],
   "source": [
    "np.dot(tuning_mat, np.array([1, 0, 0, 0, 0, 0]))"
   ]
  },
  {
   "cell_type": "markdown",
   "metadata": {},
   "source": [
    "On vérifie que ces termes sont les bons."
   ]
  },
  {
   "cell_type": "code",
   "execution_count": 156,
   "metadata": {
    "collapsed": false
   },
   "outputs": [
    {
     "data": {
      "text/plain": [
       "array([-0.10778411])"
      ]
     },
     "execution_count": 156,
     "metadata": {},
     "output_type": "execute_result"
    }
   ],
   "source": [
    "psi[0] / psi[1] * (- rho[1] / (1 + np.sum([rho[k] for k in range(6) if k != 0])))"
   ]
  },
  {
   "cell_type": "markdown",
   "metadata": {},
   "source": [
    "On écrit la fonction pour calculer la matrice :"
   ]
  },
  {
   "cell_type": "code",
   "execution_count": 157,
   "metadata": {
    "collapsed": true
   },
   "outputs": [],
   "source": [
    "def compute_tuning_matrix(psi, rho):\n",
    "    tuning_mat = np.zeros((6, 6))\n",
    "\n",
    "    for other_string in range(6):\n",
    "        for tuning_string in range(6):\n",
    "            if tuning_string == other_string:\n",
    "                tuning_mat[other_string, tuning_string] = 1.\n",
    "            else:\n",
    "                tuning_mat[other_string, tuning_string] = \\\n",
    "                        psi[tuning_string] / psi[other_string] * \\\n",
    "                            (- rho[other_string] / (1 + np.sum([rho[i] for i in range(6) if i != tuning_string])))\n",
    "    return tuning_mat"
   ]
  },
  {
   "cell_type": "code",
   "execution_count": 158,
   "metadata": {
    "collapsed": false
   },
   "outputs": [
    {
     "data": {
      "text/plain": [
       "array([[ 1.        , -0.0720598 , -0.03748629, -0.01683878, -0.00773359,\n",
       "        -0.0051728 ],\n",
       "       [-0.10778411,  1.        , -0.03322654, -0.01492531, -0.00685478,\n",
       "        -0.00458499],\n",
       "       [-0.1452357 , -0.08606456,  1.        , -0.02011139, -0.0092366 ,\n",
       "        -0.00617813],\n",
       "       [-0.33268321, -0.19714323, -0.10255604,  1.        , -0.02115776,\n",
       "        -0.0141519 ],\n",
       "       [-0.29916994, -0.17728376, -0.09222492, -0.04142729,  1.        ,\n",
       "        -0.01272629],\n",
       "       [-0.47992191, -0.28439474, -0.14794521, -0.06645676, -0.03052175,\n",
       "         1.        ]])"
      ]
     },
     "execution_count": 158,
     "metadata": {},
     "output_type": "execute_result"
    }
   ],
   "source": [
    "compute_tuning_matrix(psi, rho)"
   ]
  },
  {
   "cell_type": "markdown",
   "metadata": {},
   "source": [
    "On peut maintenant inverser la matrice en calculant l'accordage cible."
   ]
  },
  {
   "cell_type": "code",
   "execution_count": 159,
   "metadata": {
    "collapsed": false
   },
   "outputs": [
    {
     "data": {
      "text/plain": [
       "array([  82.4,  110. ,  146.8,  196. ,  246.9,  329.6])"
      ]
     },
     "execution_count": 159,
     "metadata": {},
     "output_type": "execute_result"
    }
   ],
   "source": [
    "freqs"
   ]
  },
  {
   "cell_type": "markdown",
   "metadata": {},
   "source": [
    "Le $\\Delta f$ à appliquer peut se calculer en faisant la différence à obtenir :"
   ]
  },
  {
   "cell_type": "code",
   "execution_count": 160,
   "metadata": {
    "collapsed": true
   },
   "outputs": [],
   "source": [
    "target_freqs = freqs.copy()"
   ]
  },
  {
   "cell_type": "code",
   "execution_count": 161,
   "metadata": {
    "collapsed": true
   },
   "outputs": [],
   "source": [
    "current_freqs = df.values[2, :]"
   ]
  },
  {
   "cell_type": "markdown",
   "metadata": {},
   "source": [
    "L'écart que l'on cherche à obtenir est donc :"
   ]
  },
  {
   "cell_type": "code",
   "execution_count": 162,
   "metadata": {
    "collapsed": false
   },
   "outputs": [
    {
     "data": {
      "text/plain": [
       "array([  0.5,   5.2,  33.6,  74.5,  32.7,  92.1])"
      ]
     },
     "execution_count": 162,
     "metadata": {},
     "output_type": "execute_result"
    }
   ],
   "source": [
    "target_freqs - current_freqs"
   ]
  },
  {
   "cell_type": "markdown",
   "metadata": {},
   "source": [
    "On doit le mettre au carré :"
   ]
  },
  {
   "cell_type": "code",
   "execution_count": 163,
   "metadata": {
    "collapsed": true
   },
   "outputs": [],
   "source": [
    "target_dF = (target_freqs - current_freqs) ** 2"
   ]
  },
  {
   "cell_type": "code",
   "execution_count": 164,
   "metadata": {
    "collapsed": false
   },
   "outputs": [
    {
     "data": {
      "text/plain": [
       "array([  231.11317523,   241.17522582,  1376.6233273 ,  5983.10944938,\n",
       "        1674.54820262,  9314.30830504])"
      ]
     },
     "execution_count": 164,
     "metadata": {},
     "output_type": "execute_result"
    }
   ],
   "source": [
    "Delta_F = np.linalg.solve(tuning_mat, target_dF)\n",
    "Delta_F"
   ]
  },
  {
   "cell_type": "markdown",
   "metadata": {},
   "source": [
    "On doit prendre la racine de ce grand F pour trouver les fréquences à appliquer :"
   ]
  },
  {
   "cell_type": "code",
   "execution_count": 165,
   "metadata": {
    "collapsed": false
   },
   "outputs": [
    {
     "data": {
      "text/plain": [
       "array([ 15.20240689,  15.52981731,  37.10287492,  77.35056205,\n",
       "        40.9212439 ,  96.5106642 ])"
      ]
     },
     "execution_count": 165,
     "metadata": {},
     "output_type": "execute_result"
    }
   ],
   "source": [
    "np.sqrt(Delta_F)"
   ]
  },
  {
   "cell_type": "code",
   "execution_count": 166,
   "metadata": {
    "collapsed": false
   },
   "outputs": [
    {
     "data": {
      "text/plain": [
       "array([  0.5,   5.2,  33.6,  74.5,  32.7,  92.1])"
      ]
     },
     "execution_count": 166,
     "metadata": {},
     "output_type": "execute_result"
    }
   ],
   "source": [
    "np.sqrt(np.dot(tuning_mat, Delta_F))"
   ]
  },
  {
   "cell_type": "code",
   "execution_count": 167,
   "metadata": {
    "collapsed": false
   },
   "outputs": [
    {
     "data": {
      "text/plain": [
       "array([  81.9,  104.8,  113.2,  121.5,  214.2,  237.5])"
      ]
     },
     "execution_count": 167,
     "metadata": {},
     "output_type": "execute_result"
    }
   ],
   "source": [
    "current_freqs"
   ]
  },
  {
   "cell_type": "code",
   "execution_count": 168,
   "metadata": {
    "collapsed": false
   },
   "outputs": [
    {
     "data": {
      "text/plain": [
       "array([  82.4,  110. ,  146.8,  196. ,  246.9,  329.6])"
      ]
     },
     "execution_count": 168,
     "metadata": {},
     "output_type": "execute_result"
    }
   ],
   "source": [
    "current_freqs + np.sqrt(np.dot(tuning_mat, Delta_F))"
   ]
  },
  {
   "cell_type": "markdown",
   "metadata": {},
   "source": [
    "Cela devrait marcher. Voyons voir quels deltas de fréquence il faut imposer."
   ]
  },
  {
   "cell_type": "code",
   "execution_count": 169,
   "metadata": {
    "collapsed": false
   },
   "outputs": [
    {
     "data": {
      "text/plain": [
       "array([ 15.20240689,  15.52981731,  37.10287492,  77.35056205,\n",
       "        40.9212439 ,  96.5106642 ])"
      ]
     },
     "execution_count": 169,
     "metadata": {},
     "output_type": "execute_result"
    }
   ],
   "source": [
    "np.sqrt(Delta_F)"
   ]
  },
  {
   "cell_type": "markdown",
   "metadata": {},
   "source": [
    "## Essai pratique"
   ]
  },
  {
   "cell_type": "markdown",
   "metadata": {},
   "source": [
    "Testons !"
   ]
  },
  {
   "cell_type": "code",
   "execution_count": 170,
   "metadata": {
    "collapsed": false
   },
   "outputs": [
    {
     "data": {
      "text/plain": [
       "array([  97.10240689,  120.32981731,  150.30287492,  198.85056205,\n",
       "        255.1212439 ,  334.0106642 ])"
      ]
     },
     "execution_count": 170,
     "metadata": {},
     "output_type": "execute_result"
    }
   ],
   "source": [
    "current_freqs + np.sqrt(Delta_F)"
   ]
  },
  {
   "cell_type": "markdown",
   "metadata": {},
   "source": [
    "Conclusion : ça n'a pas marché et le pont n'a pas arrêté de monter. Je pense que cela vient d'autre chose : la tension du set de cordes n'était pas adaptée !!! \n",
    "\n",
    "Je change donc de set de cordes et je recommence."
   ]
  },
  {
   "cell_type": "markdown",
   "metadata": {},
   "source": [
    "# 2ème partie : nouvelles cordes, avec propriétés connues"
   ]
  },
  {
   "cell_type": "markdown",
   "metadata": {},
   "source": [
    "J'ai mis des nouvelles cordes dont les propriétés sont les suivantes :\n",
    "\n",
    "- mi aigu .009 5.94 kg\n",
    "- si .011 4.99 kg\n",
    "- sol .016 6.67 kg\n",
    "- ré .026 8.34 kg\n",
    "- la .036 8.84 kg\n",
    "- mi grave .046 7.94 kg"
   ]
  },
  {
   "cell_type": "markdown",
   "metadata": {},
   "source": [
    "On en déduit les $\\mu_i$ :"
   ]
  },
  {
   "cell_type": "code",
   "execution_count": 171,
   "metadata": {
    "collapsed": true
   },
   "outputs": [],
   "source": [
    "freqs = np.array([82.4, 110., 146.8, 196., 246.9, 329.6]) # frequencies of the guitar strings, from low E to high E, in Hz\n",
    "calibration_tensions = np.array([7.94, 8.84, 8.34, 6.67, 4.99, 5.94]) * 9.81 # calibration tensions found on package (in kg) converted to N\n",
    "mu = calibration_tensions / (4 * 0.648**2 * freqs**2) "
   ]
  },
  {
   "cell_type": "code",
   "execution_count": 172,
   "metadata": {
    "collapsed": false
   },
   "outputs": [
    {
     "data": {
      "text/plain": [
       "array([ 0.00683007,  0.00426703,  0.00226034,  0.00101408,  0.0004781 ,\n",
       "        0.00031935])"
      ]
     },
     "execution_count": 172,
     "metadata": {},
     "output_type": "execute_result"
    }
   ],
   "source": [
    "mu"
   ]
  },
  {
   "cell_type": "markdown",
   "metadata": {},
   "source": [
    "J'ai remesuré la longueur des cordes et j'ai trouvé 65 cm. Je décide de garder la longueur standard de 0.648 m."
   ]
  },
  {
   "cell_type": "markdown",
   "metadata": {},
   "source": [
    "On en déduit les Psi_i :"
   ]
  },
  {
   "cell_type": "code",
   "execution_count": 173,
   "metadata": {
    "collapsed": true
   },
   "outputs": [],
   "source": [
    "psi = 4 * 0.648**2 * mu"
   ]
  },
  {
   "cell_type": "code",
   "execution_count": 174,
   "metadata": {
    "collapsed": false
   },
   "outputs": [
    {
     "data": {
      "text/plain": [
       "array([ 0.01147189,  0.00716698,  0.0037965 ,  0.00170327,  0.00080302,\n",
       "        0.00053639])"
      ]
     },
     "execution_count": 174,
     "metadata": {},
     "output_type": "execute_result"
    }
   ],
   "source": [
    "psi"
   ]
  },
  {
   "cell_type": "markdown",
   "metadata": {},
   "source": [
    "On peut maintenant remesurer les différentes fréquences sur la guitare :"
   ]
  },
  {
   "cell_type": "code",
   "execution_count": 175,
   "metadata": {
    "collapsed": false
   },
   "outputs": [],
   "source": [
    "lines = \"\"\"83,55\t94,70\t193,7\t138,8\t203\t190\n",
    "89,2\t93,3\t192,55\t135,2\t200,55\t186,9\n",
    "87,8\t99,2\t191,25\t130,9\t197,85\t183,7\"\"\".replace(',', '.').split('\\n')"
   ]
  },
  {
   "cell_type": "code",
   "execution_count": 176,
   "metadata": {
    "collapsed": false
   },
   "outputs": [
    {
     "data": {
      "text/plain": [
       "array([[  83.55,   94.7 ,  193.7 ,  138.8 ,  203.  ,  190.  ],\n",
       "       [  89.2 ,   93.3 ,  192.55,  135.2 ,  200.55,  186.9 ],\n",
       "       [  87.8 ,   99.2 ,  191.25,  130.9 ,  197.85,  183.7 ]])"
      ]
     },
     "execution_count": 176,
     "metadata": {},
     "output_type": "execute_result"
    }
   ],
   "source": [
    "history = np.array([line.split('\\t') for line in lines], dtype=np.float)\n",
    "history"
   ]
  },
  {
   "cell_type": "code",
   "execution_count": 177,
   "metadata": {
    "collapsed": false
   },
   "outputs": [],
   "source": [
    "T = (history ** 2) * psi"
   ]
  },
  {
   "cell_type": "code",
   "execution_count": 178,
   "metadata": {
    "collapsed": true
   },
   "outputs": [],
   "source": [
    "mat1, rhs1 = make_matrix(T[1, :], T[0, :])\n",
    "mat2, rhs2 = make_matrix(T[2, :], T[1, :])\n",
    "total_mat = np.vstack((mat1, mat2))\n",
    "total_rhs = np.vstack((rhs1[:, np.newaxis], \n",
    "                       rhs2[:, np.newaxis]))"
   ]
  },
  {
   "cell_type": "code",
   "execution_count": 179,
   "metadata": {
    "collapsed": true
   },
   "outputs": [],
   "source": [
    "rho, err, rank, eigs = np.linalg.lstsq(total_mat, total_rhs)"
   ]
  },
  {
   "cell_type": "code",
   "execution_count": 180,
   "metadata": {
    "collapsed": false
   },
   "outputs": [
    {
     "data": {
      "text/plain": [
       "array([[ 0.68364021],\n",
       "       [ 0.38595602],\n",
       "       [ 0.35713731],\n",
       "       [ 0.36234102],\n",
       "       [ 0.12312326],\n",
       "       [ 0.07544867]])"
      ]
     },
     "execution_count": 180,
     "metadata": {},
     "output_type": "execute_result"
    }
   ],
   "source": [
    "rho"
   ]
  },
  {
   "cell_type": "code",
   "execution_count": 181,
   "metadata": {
    "collapsed": false
   },
   "outputs": [
    {
     "data": {
      "text/plain": [
       "array([ 15.1809818])"
      ]
     },
     "execution_count": 181,
     "metadata": {},
     "output_type": "execute_result"
    }
   ],
   "source": [
    "err"
   ]
  },
  {
   "cell_type": "markdown",
   "metadata": {},
   "source": [
    "Cette fois-ci on constate que les rho_i sont dans l'ordre !"
   ]
  },
  {
   "cell_type": "code",
   "execution_count": 182,
   "metadata": {
    "collapsed": false
   },
   "outputs": [
    {
     "data": {
      "text/plain": [
       "array([[ 1.86173921],\n",
       "       [ 1.79984672],\n",
       "       [ 1.86626743],\n",
       "       [ 0.34330066],\n",
       "       [ 0.02756061]])"
      ]
     },
     "execution_count": 182,
     "metadata": {},
     "output_type": "execute_result"
    }
   ],
   "source": [
    "np.dot(mat1, rho)"
   ]
  },
  {
   "cell_type": "code",
   "execution_count": 183,
   "metadata": {
    "collapsed": false
   },
   "outputs": [
    {
     "data": {
      "text/plain": [
       "array([ 1.88634787,  1.68635607,  1.68010244,  0.79394572,  0.62671325])"
      ]
     },
     "execution_count": 183,
     "metadata": {},
     "output_type": "execute_result"
    }
   ],
   "source": [
    "rhs1"
   ]
  },
  {
   "cell_type": "code",
   "execution_count": 184,
   "metadata": {
    "collapsed": false
   },
   "outputs": [
    {
     "data": {
      "text/plain": [
       "array([[ 1.01157584],\n",
       "       [-0.12690092],\n",
       "       [-0.17216428],\n",
       "       [-0.38132147],\n",
       "       [-0.40471716]])"
      ]
     },
     "execution_count": 184,
     "metadata": {},
     "output_type": "execute_result"
    }
   ],
   "source": [
    "np.dot(mat2, rho)"
   ]
  },
  {
   "cell_type": "code",
   "execution_count": 185,
   "metadata": {
    "collapsed": false
   },
   "outputs": [
    {
     "data": {
      "text/plain": [
       "array([ 2.84273508,  1.89422372,  1.94892905,  0.86379456,  0.63611618])"
      ]
     },
     "execution_count": 185,
     "metadata": {},
     "output_type": "execute_result"
    }
   ],
   "source": [
    "rhs2"
   ]
  },
  {
   "cell_type": "code",
   "execution_count": 186,
   "metadata": {
    "collapsed": false
   },
   "outputs": [
    {
     "data": {
      "text/plain": [
       "array([[ 1.86173921],\n",
       "       [ 1.79984672],\n",
       "       [ 1.86626743],\n",
       "       [ 0.34330066],\n",
       "       [ 0.02756061],\n",
       "       [ 1.01157584],\n",
       "       [-0.12690092],\n",
       "       [-0.17216428],\n",
       "       [-0.38132147],\n",
       "       [-0.40471716]])"
      ]
     },
     "execution_count": 186,
     "metadata": {},
     "output_type": "execute_result"
    }
   ],
   "source": [
    "np.dot(total_mat, rho)"
   ]
  },
  {
   "cell_type": "code",
   "execution_count": 187,
   "metadata": {
    "collapsed": false
   },
   "outputs": [
    {
     "data": {
      "text/plain": [
       "array([[ 1.88634787],\n",
       "       [ 1.68635607],\n",
       "       [ 1.68010244],\n",
       "       [ 0.79394572],\n",
       "       [ 0.62671325],\n",
       "       [ 2.84273508],\n",
       "       [ 1.89422372],\n",
       "       [ 1.94892905],\n",
       "       [ 0.86379456],\n",
       "       [ 0.63611618]])"
      ]
     },
     "execution_count": 187,
     "metadata": {},
     "output_type": "execute_result"
    }
   ],
   "source": [
    "total_rhs"
   ]
  },
  {
   "cell_type": "markdown",
   "metadata": {},
   "source": [
    "Bizarre la vérification..."
   ]
  },
  {
   "cell_type": "code",
   "execution_count": 188,
   "metadata": {
    "collapsed": false
   },
   "outputs": [],
   "source": [
    "tuning_mat = compute_tuning_matrix(psi, rho)"
   ]
  },
  {
   "cell_type": "code",
   "execution_count": 189,
   "metadata": {
    "collapsed": false
   },
   "outputs": [
    {
     "data": {
      "text/plain": [
       "array([[ 1.        , -0.16416206, -0.08600736, -0.03866298, -0.01670581,\n",
       "        -0.01097622],\n",
       "       [-0.2681349 ,  1.        , -0.07772219, -0.03493854, -0.01509652,\n",
       "        -0.00991887],\n",
       "       [-0.46838578, -0.25913886,  1.        , -0.06103165, -0.02637104,\n",
       "        -0.01732656],\n",
       "       [-1.05922014, -0.58602356, -0.30702796,  1.        , -0.05963618,\n",
       "        -0.03918276],\n",
       "       [-0.7634211 , -0.42236995, -0.22128698, -0.09947538,  1.        ,\n",
       "        -0.02824053],\n",
       "       [-0.70036106, -0.38748138, -0.20300825, -0.09125852, -0.03943171,\n",
       "         1.        ]])"
      ]
     },
     "execution_count": 189,
     "metadata": {},
     "output_type": "execute_result"
    }
   ],
   "source": [
    "tuning_mat"
   ]
  },
  {
   "cell_type": "code",
   "execution_count": 190,
   "metadata": {
    "collapsed": true
   },
   "outputs": [],
   "source": [
    "target_freqs = freqs.copy()"
   ]
  },
  {
   "cell_type": "code",
   "execution_count": 191,
   "metadata": {
    "collapsed": true
   },
   "outputs": [],
   "source": [
    "current_freqs = history[2, :]"
   ]
  },
  {
   "cell_type": "code",
   "execution_count": 192,
   "metadata": {
    "collapsed": false
   },
   "outputs": [
    {
     "data": {
      "text/plain": [
       "array([  -5.4 ,   10.8 ,  -44.45,   65.1 ,   49.05,  145.9 ])"
      ]
     },
     "execution_count": 192,
     "metadata": {},
     "output_type": "execute_result"
    }
   ],
   "source": [
    "target_freqs - current_freqs"
   ]
  },
  {
   "cell_type": "code",
   "execution_count": 193,
   "metadata": {
    "collapsed": true
   },
   "outputs": [],
   "source": [
    "target_dF = (target_freqs - current_freqs) ** 2"
   ]
  },
  {
   "cell_type": "code",
   "execution_count": 194,
   "metadata": {
    "collapsed": false
   },
   "outputs": [
    {
     "data": {
      "text/plain": [
       "array([  1366.2601893 ,   1472.7920829 ,   4161.43823636,   9189.9578263 ,\n",
       "         6605.23136645,  24758.28871927])"
      ]
     },
     "execution_count": 194,
     "metadata": {},
     "output_type": "execute_result"
    }
   ],
   "source": [
    "Delta_F = np.linalg.solve(tuning_mat, target_dF)\n",
    "Delta_F"
   ]
  },
  {
   "cell_type": "code",
   "execution_count": 195,
   "metadata": {
    "collapsed": false
   },
   "outputs": [
    {
     "data": {
      "text/plain": [
       "array([  36.96295699,   38.37697334,   64.50921048,   95.86426772,\n",
       "         81.2725745 ,  157.3476683 ])"
      ]
     },
     "execution_count": 195,
     "metadata": {},
     "output_type": "execute_result"
    }
   ],
   "source": [
    "np.sqrt(Delta_F)"
   ]
  },
  {
   "cell_type": "code",
   "execution_count": 196,
   "metadata": {
    "collapsed": false
   },
   "outputs": [
    {
     "name": "stdout",
     "output_type": "stream",
     "text": [
      "36.96\n",
      "38.38\n",
      "64.51\n",
      "95.86\n",
      "81.27\n",
      "157.35\n"
     ]
    }
   ],
   "source": [
    "for _ in np.sqrt(Delta_F):\n",
    "    print(\"{:.2f}\".format(_))"
   ]
  },
  {
   "cell_type": "markdown",
   "metadata": {
    "collapsed": true
   },
   "source": [
    "# 3ème partie : travail sur la méthode d'accordage "
   ]
  },
  {
   "cell_type": "markdown",
   "metadata": {},
   "source": [
    "Un des problèmes des parties précédentes provient du fait que l'accordage modifie au fur et à mesure les tensions des cordes et que lorsqu'on veut accorder la deuxième corde, on se pose la question de sa tension cible, qui a déjà changé par rapport aux conditions initiales.\n",
    "\n",
    "Il y a deux possibilités :\n",
    "\n",
    "- calculer la tension d'arrivée à l'issue de l'accordage de la première corde prédite par le modèle pour toutes les cordes et l'utiliser pour calculer la tension cible de la deuxième corde\n",
    "- remesurer toutes les tensions des cordes et ajouter l'incrément de tension nécessaire à la deuxième corde selon ce qui a été calculé par le modèle\n",
    "\n",
    "Idéalement, c'est à dire si le modèle est correct et que les paramètres ont été bien estimés, les deux méthodes se rejoignent.\n",
    "\n",
    "Dans cette partie, nous allons confronter dans un premier temps les variations mesurées à l'issue d'un désaccordage avec les variations prédites. Dans un deuxième temps, nous conclurons sur la méthode à utiliser parmi les deux possibilités évoquées ci-dessus."
   ]
  },
  {
   "cell_type": "markdown",
   "metadata": {},
   "source": [
    "## Validation précise du modèle "
   ]
  },
  {
   "cell_type": "markdown",
   "metadata": {},
   "source": [
    "Plan de cette partie : \n",
    "\n",
    "- ré-inverser le modèle avec des nouvelles mesures indépendantes de la première série ci-dessus ; comparer les rho_i obtenus (on s'attend à trouver à peu près la même chose !)\n",
    "- faire les étapes d'accordage une par une et comparer à chaque étape la fréquence mesurée sur la guitare pour chaque corde ainsi que celle prédite par la méthode"
   ]
  },
  {
   "cell_type": "markdown",
   "metadata": {},
   "source": [
    "### Inversion du modèle "
   ]
  },
  {
   "cell_type": "markdown",
   "metadata": {},
   "source": [
    "Propriétés de la guitare connues à l'avance :"
   ]
  },
  {
   "cell_type": "code",
   "execution_count": 197,
   "metadata": {
    "collapsed": true
   },
   "outputs": [],
   "source": [
    "freqs = np.array([82.4, 110., 146.8, 196., 246.9, 329.6]) # frequencies of the guitar strings, from low E to high E, in Hz\n",
    "calibration_tensions = np.array([7.94, 8.84, 8.34, 6.67, 4.99, 5.94]) * 9.81 # calibration tensions found on package (in kg) converted to N\n",
    "mu = calibration_tensions / (4 * 0.648**2 * freqs**2) \n",
    "psi = 4 * 0.648**2 * mu"
   ]
  },
  {
   "cell_type": "markdown",
   "metadata": {},
   "source": [
    "Afin de faire les prochaines mesures, on écrit la partie restante de l'application avec PyQt."
   ]
  },
  {
   "cell_type": "markdown",
   "metadata": {},
   "source": [
    "On désaccorde successivement le mi grave et le la pour obtenir les relevés suivants (à 0.1 Hz) :"
   ]
  },
  {
   "cell_type": "code",
   "execution_count": 198,
   "metadata": {
    "collapsed": false
   },
   "outputs": [
    {
     "data": {
      "text/plain": [
       "array([[  84.6,  111.4,  148.8,  193.8,  244.3,  328.7],\n",
       "       [  82.1,  111.6,  149. ,  194.1,  244.5,  329. ],\n",
       "       [  81.8,  114.6,  148.8,  193.7,  244.2,  328.7]])"
      ]
     },
     "execution_count": 198,
     "metadata": {},
     "output_type": "execute_result"
    }
   ],
   "source": [
    "history = np.array([[84.6,111.4,148.8,193.8,244.3,328.7],\n",
    "[82.1,111.6,149.0,194.1,244.5,329.0],\n",
    "[81.8,114.6,148.8,193.7,244.2,328.7]]) \n",
    "history"
   ]
  },
  {
   "cell_type": "code",
   "execution_count": 199,
   "metadata": {
    "collapsed": false
   },
   "outputs": [
    {
     "data": {
      "text/plain": [
       "array([[ 82.10617348,  88.94187564,  84.05988844,  63.97204646,\n",
       "         47.92634471,  57.95360474],\n",
       "       [ 77.32526208,  89.26152273,  84.28600774,  64.17025563,\n",
       "         48.00484813,  58.05943995],\n",
       "       [ 76.7611891 ,  94.1250321 ,  84.05988844,  63.90604487,\n",
       "         47.88711709,  57.95360474]])"
      ]
     },
     "execution_count": 199,
     "metadata": {},
     "output_type": "execute_result"
    }
   ],
   "source": [
    "T = (history ** 2) * psi\n",
    "T"
   ]
  },
  {
   "cell_type": "markdown",
   "metadata": {},
   "source": [
    "On peut regarder la somme des tensions (et la remettre en kg pour avoir une petite idée) :"
   ]
  },
  {
   "cell_type": "code",
   "execution_count": 200,
   "metadata": {
    "collapsed": false
   },
   "outputs": [
    {
     "data": {
      "text/plain": [
       "array([ 43.3190554 ,  42.92633397,  43.29183245])"
      ]
     },
     "execution_count": 200,
     "metadata": {},
     "output_type": "execute_result"
    }
   ],
   "source": [
    "T.sum(axis=1) / 9.81"
   ]
  },
  {
   "cell_type": "markdown",
   "metadata": {},
   "source": [
    "On constate qu'on reste proche, mais qu'on ne conserve pas exactement les tensions. Je me demande ce que prédit le modèle à ce sujet."
   ]
  },
  {
   "cell_type": "code",
   "execution_count": 258,
   "metadata": {
    "collapsed": false
   },
   "outputs": [],
   "source": [
    "mat1, rhs1 = make_matrix(T[1, :], T[0, :])\n",
    "mat2, rhs2 = make_matrix(T[2, :], T[1, :])\n",
    "total_mat = np.vstack((mat1, mat2))\n",
    "total_rhs = np.vstack((rhs1[:, np.newaxis], \n",
    "                       rhs2[:, np.newaxis]))\n",
    "rho, err, rank, eigs = np.linalg.lstsq(total_mat, total_rhs)"
   ]
  },
  {
   "cell_type": "code",
   "execution_count": 203,
   "metadata": {
    "collapsed": false
   },
   "outputs": [
    {
     "data": {
      "text/plain": [
       "array([[ 0.15357272],\n",
       "       [ 0.08504085],\n",
       "       [ 0.06070064],\n",
       "       [ 0.06238074],\n",
       "       [ 0.02644736],\n",
       "       [ 0.02833926]])"
      ]
     },
     "execution_count": 203,
     "metadata": {},
     "output_type": "execute_result"
    }
   ],
   "source": [
    "rho"
   ]
  },
  {
   "cell_type": "code",
   "execution_count": 204,
   "metadata": {
    "collapsed": false
   },
   "outputs": [
    {
     "data": {
      "text/plain": [
       "array([ 0.00626796])"
      ]
     },
     "execution_count": 204,
     "metadata": {},
     "output_type": "execute_result"
    }
   ],
   "source": [
    "err"
   ]
  },
  {
   "cell_type": "code",
   "execution_count": 205,
   "metadata": {
    "collapsed": false
   },
   "outputs": [
    {
     "data": {
      "text/plain": [
       "array([[-0.32253471],\n",
       "       [-0.2307556 ],\n",
       "       [-0.24612583],\n",
       "       [-0.10580322],\n",
       "       [-0.10766249],\n",
       "       [ 0.55994563],\n",
       "       [ 0.22027297],\n",
       "       [ 0.2158191 ],\n",
       "       [ 0.0896061 ],\n",
       "       [ 0.10275017]])"
      ]
     },
     "execution_count": 205,
     "metadata": {},
     "output_type": "execute_result"
    }
   ],
   "source": [
    "np.dot(total_mat, rho)"
   ]
  },
  {
   "cell_type": "code",
   "execution_count": 206,
   "metadata": {
    "collapsed": false
   },
   "outputs": [
    {
     "data": {
      "text/plain": [
       "array([[-0.31964709],\n",
       "       [-0.2261193 ],\n",
       "       [-0.19820917],\n",
       "       [-0.07850342],\n",
       "       [-0.1058352 ],\n",
       "       [ 0.56407298],\n",
       "       [ 0.2261193 ],\n",
       "       [ 0.26421076],\n",
       "       [ 0.11773104],\n",
       "       [ 0.1058352 ]])"
      ]
     },
     "execution_count": 206,
     "metadata": {},
     "output_type": "execute_result"
    }
   ],
   "source": [
    "total_rhs"
   ]
  },
  {
   "cell_type": "markdown",
   "metadata": {},
   "source": [
    "Cette fois-ci, la prédiction n'est pas si mauvaise..."
   ]
  },
  {
   "cell_type": "markdown",
   "metadata": {},
   "source": [
    "### Prédictions successives du modèle"
   ]
  },
  {
   "cell_type": "markdown",
   "metadata": {},
   "source": [
    "On peut maintenant calculer la matrice d'accord (dans le cadre du modèle linéaire)."
   ]
  },
  {
   "cell_type": "code",
   "execution_count": 207,
   "metadata": {
    "collapsed": true
   },
   "outputs": [],
   "source": [
    "tuning_mat = compute_tuning_matrix(psi, rho)"
   ]
  },
  {
   "cell_type": "code",
   "execution_count": 208,
   "metadata": {
    "collapsed": false
   },
   "outputs": [
    {
     "data": {
      "text/plain": [
       "array([[ 1.        , -0.0720598 , -0.03748629, -0.01683878, -0.00773359,\n",
       "        -0.0051728 ],\n",
       "       [-0.10778411,  1.        , -0.03322654, -0.01492531, -0.00685478,\n",
       "        -0.00458499],\n",
       "       [-0.1452357 , -0.08606456,  1.        , -0.02011139, -0.0092366 ,\n",
       "        -0.00617813],\n",
       "       [-0.33268321, -0.19714323, -0.10255604,  1.        , -0.02115776,\n",
       "        -0.0141519 ],\n",
       "       [-0.29916994, -0.17728376, -0.09222492, -0.04142729,  1.        ,\n",
       "        -0.01272629],\n",
       "       [-0.47992191, -0.28439474, -0.14794521, -0.06645676, -0.03052175,\n",
       "         1.        ]])"
      ]
     },
     "execution_count": 208,
     "metadata": {},
     "output_type": "execute_result"
    }
   ],
   "source": [
    "tuning_mat"
   ]
  },
  {
   "cell_type": "markdown",
   "metadata": {},
   "source": [
    "Et maintenant, on peut prédire les changements à partir d'un état vers un autre :"
   ]
  },
  {
   "cell_type": "code",
   "execution_count": null,
   "metadata": {
    "collapsed": true
   },
   "outputs": [],
   "source": [
    "def predict_changes(initial_T, final_T, tuning_mat):\n",
    "    \"\"\"predicts changes in tuning (frequency) from a vector of tensions\"\"\"\n",
    "    print(\"initial tunings: {:.2f}, {:.2f}, {:.2f}, {:.2f}, {:.2f}, {:.2f}\".format(*[x for x in np.sqrt(initial_T))]))\n",
    "    print(\"final tunings: {:.2f}, {:.2f}, {:.2f}, {:.2f}, {:.2f}, {:.2f}\".format(*[x for x in np.sqrt(final_T))]))\n",
    "    print(\"predicted tunings\")"
   ]
  },
  {
   "cell_type": "markdown",
   "metadata": {},
   "source": [
    "**attention au calcul des `target_dF`**, c'est :\n",
    "$$\n",
    "\\delta F = f_{target}^2 - f_{current}^2\n",
    "$$"
   ]
  },
  {
   "cell_type": "code",
   "execution_count": 218,
   "metadata": {
    "collapsed": false
   },
   "outputs": [
    {
     "data": {
      "text/plain": [
       "array([   20.88440591, -1033.69879388,  -651.71255386,   660.43531185,\n",
       "        1119.90866086,   290.16859017])"
      ]
     },
     "execution_count": 218,
     "metadata": {},
     "output_type": "execute_result"
    }
   ],
   "source": [
    "target_freqs = freqs.copy()\n",
    "current_freqs = history[2, :]\n",
    "target_dF = target_freqs**2 - current_freqs**2\n",
    "Delta_F = np.linalg.solve(tuning_mat, target_dF)\n",
    "Delta_F"
   ]
  },
  {
   "cell_type": "code",
   "execution_count": 219,
   "metadata": {
    "collapsed": false
   },
   "outputs": [
    {
     "data": {
      "text/plain": [
       "array([  82.4,  110. ,  146.8,  196. ,  246.9,  329.6])"
      ]
     },
     "execution_count": 219,
     "metadata": {},
     "output_type": "execute_result"
    }
   ],
   "source": [
    "np.sqrt(current_freqs**2 + np.dot(tuning_mat, Delta_F))"
   ]
  },
  {
   "cell_type": "code",
   "execution_count": 216,
   "metadata": {
    "collapsed": false
   },
   "outputs": [
    {
     "data": {
      "text/plain": [
       "array([  82.4,  110. ,  146.8,  196. ,  246.9,  329.6])"
      ]
     },
     "execution_count": 216,
     "metadata": {},
     "output_type": "execute_result"
    }
   ],
   "source": [
    "target_freqs"
   ]
  },
  {
   "cell_type": "markdown",
   "metadata": {
    "collapsed": true
   },
   "source": [
    "On peut maintenant écrire la séquence attendue :"
   ]
  },
  {
   "cell_type": "code",
   "execution_count": 227,
   "metadata": {
    "collapsed": false
   },
   "outputs": [
    {
     "name": "stdout",
     "output_type": "stream",
     "text": [
      "initial: 81.8, 114.6, 148.8, 193.7, 244.2, 328.7\n",
      " step 0: 81.9, 114.6, 148.8, 193.7, 244.2, 328.7\n",
      " step 1: 82.4, 110.0, 149.1, 194.2, 244.6, 329.1\n",
      " step 2: 82.5, 110.1, 146.9, 194.4, 244.7, 329.3\n",
      " step 3: 82.5, 110.0, 146.8, 196.1, 244.6, 329.2\n",
      " step 4: 82.4, 110.0, 146.8, 196.0, 246.9, 329.2\n",
      " step 5: 82.4, 110.0, 146.8, 196.0, 246.9, 329.6\n"
     ]
    }
   ],
   "source": [
    "print(\"initial: {:.1f}, {:.1f}, {:.1f}, {:.1f}, {:.1f}, {:.1f}\".format(*[x for x in current_freqs]))\n",
    "for step in range(6):\n",
    "    new_F = np.sqrt(current_freqs**2 + np.dot(tuning_mat, Delta_F * (np.arange(6) <= step)))\n",
    "    print(\" step {}: {:.1f}, {:.1f}, {:.1f}, {:.1f}, {:.1f}, {:.1f}\".format(step, *[x for x in new_F]))\n",
    "    "
   ]
  },
  {
   "cell_type": "markdown",
   "metadata": {},
   "source": [
    "On peut écrire une fonction qui facilite le calcul :"
   ]
  },
  {
   "cell_type": "code",
   "execution_count": 228,
   "metadata": {
    "collapsed": true
   },
   "outputs": [],
   "source": [
    "def tuning_step(tuning_mat, initial_freqs, Delta_F, step_number):\n",
    "    \"\"\"predicts observed tuning as a function of tuning step\n",
    "    convention: step 0 means nothing has changed\"\"\"\n",
    "    step = step_number - 1\n",
    "    if step == -1:\n",
    "        return initial_freqs\n",
    "    return np.sqrt(initial_freqs**2 + np.dot(tuning_mat, Delta_F * (np.arange(6) <= step)))"
   ]
  },
  {
   "cell_type": "code",
   "execution_count": 237,
   "metadata": {
    "collapsed": true
   },
   "outputs": [],
   "source": [
    "print_strings = lambda v: print(\"{:.1f}, {:.1f}, {:.1f}, {:.1f}, {:.1f}, {:.1f}\".format(*v))"
   ]
  },
  {
   "cell_type": "markdown",
   "metadata": {},
   "source": [
    "### Etape 0 : le programme "
   ]
  },
  {
   "cell_type": "code",
   "execution_count": 233,
   "metadata": {
    "collapsed": true
   },
   "outputs": [],
   "source": [
    "%matplotlib inline\n",
    "import matplotlib.pyplot as plt"
   ]
  },
  {
   "cell_type": "code",
   "execution_count": 229,
   "metadata": {
    "collapsed": true
   },
   "outputs": [],
   "source": [
    "initial_freqs = current_freqs.copy()"
   ]
  },
  {
   "cell_type": "markdown",
   "metadata": {},
   "source": [
    "Les fréquences cibles des cordes sont :"
   ]
  },
  {
   "cell_type": "code",
   "execution_count": 246,
   "metadata": {
    "collapsed": false
   },
   "outputs": [
    {
     "name": "stdout",
     "output_type": "stream",
     "text": [
      "string: low E, target frequency: 81.9\n",
      "string: A, target frequency: 110.0\n",
      "string: D, target frequency: 146.9\n",
      "string: G, target frequency: 196.1\n",
      "string: B, target frequency: 246.9\n",
      "string: high E, target frequency: 329.6\n"
     ]
    }
   ],
   "source": [
    "for target, string in zip([tuning_step(tuning_mat, initial_freqs, Delta_F, i)[i-1] for i in range(1, 7)],\n",
    "                          [\"low E\", \"A\", \"D\", \"G\", \"B\", \"high E\"]):\n",
    "    print(\"string: {}, target frequency: {:.1f}\".format(string, target))"
   ]
  },
  {
   "cell_type": "markdown",
   "metadata": {},
   "source": [
    "### Etape 1 : mi grave"
   ]
  },
  {
   "cell_type": "code",
   "execution_count": 240,
   "metadata": {
    "collapsed": false
   },
   "outputs": [
    {
     "name": "stdout",
     "output_type": "stream",
     "text": [
      "82.0, 114.5, 148.5, 193.5, 244.0, 328.7\n",
      "81.9, 114.6, 148.8, 193.7, 244.2, 328.7\n"
     ]
    },
    {
     "data": {
      "text/plain": [
       "[<matplotlib.lines.Line2D at 0x1082490f0>]"
      ]
     },
     "execution_count": 240,
     "metadata": {},
     "output_type": "execute_result"
    },
    {
     "data": {
      "image/png": "[encoded data removed]",
      "text/plain": [
       "<matplotlib.figure.Figure at 0x1082494a8>"
      ]
     },
     "metadata": {},
     "output_type": "display_data"
    }
   ],
   "source": [
    "measured_freqs = [82.0,114.5,148.5,193.5,244.0,328.7]\n",
    "expected_freqs = tuning_step(tuning_mat, initial_freqs, Delta_F, 1)\n",
    "print_strings(measured_freqs)\n",
    "print_strings(expected_freqs)\n",
    "plt.plot(measured_freqs, 'o')\n",
    "plt.plot(expected_freqs, 'o')"
   ]
  },
  {
   "cell_type": "markdown",
   "metadata": {},
   "source": [
    "### La "
   ]
  },
  {
   "cell_type": "code",
   "execution_count": 247,
   "metadata": {
    "collapsed": false
   },
   "outputs": [
    {
     "name": "stdout",
     "output_type": "stream",
     "text": [
      "82.3, 110.0, 148.8, 194.1, 244.5, 329.2\n",
      "82.4, 110.0, 149.1, 194.2, 244.6, 329.1\n"
     ]
    },
    {
     "data": {
      "text/plain": [
       "[<matplotlib.lines.Line2D at 0x107cc4cc0>]"
      ]
     },
     "execution_count": 247,
     "metadata": {},
     "output_type": "execute_result"
    },
    {
     "data": {
      "image/png": "[encoded data removed]",
      "text/plain": [
       "<matplotlib.figure.Figure at 0x108249a90>"
      ]
     },
     "metadata": {},
     "output_type": "display_data"
    }
   ],
   "source": [
    "measured_freqs = [82.3,110.0,148.8,194.1,244.5,329.2]\n",
    "expected_freqs = tuning_step(tuning_mat, initial_freqs, Delta_F, 2)\n",
    "print_strings(measured_freqs)\n",
    "print_strings(expected_freqs)\n",
    "plt.plot(measured_freqs, 'o')\n",
    "plt.plot(expected_freqs, 'o')"
   ]
  },
  {
   "cell_type": "markdown",
   "metadata": {},
   "source": [
    "### Ré "
   ]
  },
  {
   "cell_type": "code",
   "execution_count": 248,
   "metadata": {
    "collapsed": false
   },
   "outputs": [
    {
     "name": "stdout",
     "output_type": "stream",
     "text": [
      "82.4, 110.2, 146.9, 194.4, 244.7, 329.5\n",
      "82.5, 110.1, 146.9, 194.4, 244.7, 329.3\n"
     ]
    },
    {
     "data": {
      "text/plain": [
       "[<matplotlib.lines.Line2D at 0x1085195c0>]"
      ]
     },
     "execution_count": 248,
     "metadata": {},
     "output_type": "execute_result"
    },
    {
     "data": {
      "image/png": "[encoded data removed]",
      "text/plain": [
       "<matplotlib.figure.Figure at 0x108519d68>"
      ]
     },
     "metadata": {},
     "output_type": "display_data"
    }
   ],
   "source": [
    "measured_freqs = [82.4,110.2,146.9,194.4,244.7,329.5]\n",
    "expected_freqs = tuning_step(tuning_mat, initial_freqs, Delta_F, 3)\n",
    "print_strings(measured_freqs)\n",
    "print_strings(expected_freqs)\n",
    "plt.plot(measured_freqs, 'o')\n",
    "plt.plot(expected_freqs, 'o')"
   ]
  },
  {
   "cell_type": "markdown",
   "metadata": {},
   "source": [
    "### Sol"
   ]
  },
  {
   "cell_type": "code",
   "execution_count": 250,
   "metadata": {
    "collapsed": false
   },
   "outputs": [
    {
     "name": "stdout",
     "output_type": "stream",
     "text": [
      "82.4, 110.2, 147.0, 196.1, 244.6, 329.2\n",
      "82.5, 110.0, 146.8, 196.1, 244.6, 329.2\n"
     ]
    },
    {
     "data": {
      "text/plain": [
       "[<matplotlib.lines.Line2D at 0x108822940>]"
      ]
     },
     "execution_count": 250,
     "metadata": {},
     "output_type": "execute_result"
    },
    {
     "data": {
      "image/png": "[encoded data removed]",
      "text/plain": [
       "<matplotlib.figure.Figure at 0x108822908>"
      ]
     },
     "metadata": {},
     "output_type": "display_data"
    }
   ],
   "source": [
    "measured_freqs = [82.4,110.2,147.0,196.1,244.6,329.2]\n",
    "expected_freqs = tuning_step(tuning_mat, initial_freqs, Delta_F, 4)\n",
    "print_strings(measured_freqs)\n",
    "print_strings(expected_freqs)\n",
    "plt.plot(measured_freqs, 'o')\n",
    "plt.plot(expected_freqs, 'o')"
   ]
  },
  {
   "cell_type": "markdown",
   "metadata": {},
   "source": [
    "### Si "
   ]
  },
  {
   "cell_type": "code",
   "execution_count": 251,
   "metadata": {
    "collapsed": false
   },
   "outputs": [
    {
     "name": "stdout",
     "output_type": "stream",
     "text": [
      "82.4, 110.2, 146.9, 196.3, 246.8, 329.2\n",
      "82.4, 110.0, 146.8, 196.0, 246.9, 329.2\n"
     ]
    },
    {
     "data": {
      "text/plain": [
       "[<matplotlib.lines.Line2D at 0x1089fbd68>]"
      ]
     },
     "execution_count": 251,
     "metadata": {},
     "output_type": "execute_result"
    },
    {
     "data": {
      "image/png": "[encoded data removed]",
      "text/plain": [
       "<matplotlib.figure.Figure at 0x1089fbd30>"
      ]
     },
     "metadata": {},
     "output_type": "display_data"
    }
   ],
   "source": [
    "measured_freqs = [82.4,110.2,146.9,196.3,246.8,329.2]\n",
    "expected_freqs = tuning_step(tuning_mat, initial_freqs, Delta_F, 5)\n",
    "print_strings(measured_freqs)\n",
    "print_strings(expected_freqs)\n",
    "plt.plot(measured_freqs, 'o')\n",
    "plt.plot(expected_freqs, 'o')"
   ]
  },
  {
   "cell_type": "markdown",
   "metadata": {},
   "source": [
    "### Mi aigu "
   ]
  },
  {
   "cell_type": "code",
   "execution_count": 253,
   "metadata": {
    "collapsed": false
   },
   "outputs": [
    {
     "name": "stdout",
     "output_type": "stream",
     "text": [
      "82.4, 110.1, 146.9, 196.3, 246.7, 329.6\n",
      "82.4, 110.0, 146.8, 196.0, 246.9, 329.6\n"
     ]
    },
    {
     "data": {
      "text/plain": [
       "[<matplotlib.lines.Line2D at 0x108b57da0>]"
      ]
     },
     "execution_count": 253,
     "metadata": {},
     "output_type": "execute_result"
    },
    {
     "data": {
      "image/png": "[encoded data removed]",
      "text/plain": [
       "<matplotlib.figure.Figure at 0x108b57cc0>"
      ]
     },
     "metadata": {},
     "output_type": "display_data"
    }
   ],
   "source": [
    "measured_freqs = [82.4,110.1,146.9,196.3,246.7,329.6]\n",
    "expected_freqs = tuning_step(tuning_mat, initial_freqs, Delta_F, 6)\n",
    "print_strings(measured_freqs)\n",
    "print_strings(expected_freqs)\n",
    "plt.plot(measured_freqs, 'o')\n",
    "plt.plot(expected_freqs, 'o')"
   ]
  },
  {
   "cell_type": "markdown",
   "metadata": {},
   "source": [
    "J'ai envie de penser que cela suffit."
   ]
  },
  {
   "cell_type": "markdown",
   "metadata": {},
   "source": [
    "à faire demain :\n",
    "\n",
    "- refaire une inversion\n",
    "- refaire un accordage en quantifiant l'erreur en demi-tons par rapport à la note cible"
   ]
  },
  {
   "cell_type": "markdown",
   "metadata": {},
   "source": [
    "# 20150811 "
   ]
  },
  {
   "cell_type": "markdown",
   "metadata": {},
   "source": [
    "Effet du serrage des boulons en tête de guitare sur l'accordage :\n",
    "\n",
    "- avant : 83.3,112.8,150.0,201.3,250.2,334.3\n",
    "- après : 83.1,112.9,149.7,201.3,250.4,334.5\n",
    "\n",
    "Conclusion : petit effet, on va négliger ça."
   ]
  },
  {
   "cell_type": "markdown",
   "metadata": {},
   "source": [
    "J'utilise le protocole d'accordage suivant (attention différent de celui de l'étape précédente où j'avais descendu le mi et monté le la) :\n",
    "\n",
    "- je monte le mi grave\n",
    "- je descend le la\n",
    "\n",
    "Au préalable, je met toutes les vis dans leurs positions neutres sur le vibrato pour le fine tuning."
   ]
  },
  {
   "cell_type": "markdown",
   "metadata": {},
   "source": [
    "## Inversion "
   ]
  },
  {
   "cell_type": "code",
   "execution_count": 254,
   "metadata": {
    "collapsed": true
   },
   "outputs": [],
   "source": [
    "freqs = np.array([82.4, 110., 146.8, 196., 246.9, 329.6]) # frequencies of the guitar strings, from low E to high E, in Hz\n",
    "calibration_tensions = np.array([7.94, 8.84, 8.34, 6.67, 4.99, 5.94]) * 9.81 # calibration tensions found on package (in kg) converted to N\n",
    "mu = calibration_tensions / (4 * 0.648**2 * freqs**2) \n",
    "psi = 4 * 0.648**2 * mu"
   ]
  },
  {
   "cell_type": "code",
   "execution_count": 255,
   "metadata": {
    "collapsed": false
   },
   "outputs": [
    {
     "data": {
      "text/plain": [
       "array([[  83.7,  112.7,  151.3,  204.2,  251.2,  333.4],\n",
       "       [  84.9,  112.3,  150.9,  203.3,  250.5,  332.8],\n",
       "       [  85. ,  109.4,  151.1,  203.9,  250.9,  333. ]])"
      ]
     },
     "execution_count": 255,
     "metadata": {},
     "output_type": "execute_result"
    }
   ],
   "source": [
    "history = np.array([[83.7,112.7,151.3,204.2,251.2,333.4],\n",
    "                    [84.9,112.3,150.9,203.3,250.5,332.8],\n",
    "                    [85.0,109.4,151.1,203.9,250.9,333.0]]) \n",
    "history"
   ]
  },
  {
   "cell_type": "code",
   "execution_count": 256,
   "metadata": {
    "collapsed": true
   },
   "outputs": [],
   "source": [
    "T = (history ** 2) * psi"
   ]
  },
  {
   "cell_type": "code",
   "execution_count": 257,
   "metadata": {
    "collapsed": false
   },
   "outputs": [
    {
     "data": {
      "text/plain": [
       "array([ 44.81380154,  44.82358266,  44.46323347])"
      ]
     },
     "execution_count": 257,
     "metadata": {},
     "output_type": "execute_result"
    }
   ],
   "source": [
    "T.sum(axis=1) / 9.81"
   ]
  },
  {
   "cell_type": "code",
   "execution_count": 259,
   "metadata": {
    "collapsed": true
   },
   "outputs": [],
   "source": [
    "mat1, rhs1 = make_matrix(T[1, :], T[0, :])\n",
    "mat2, rhs2 = make_matrix(T[2, :], T[1, :])\n",
    "total_mat = np.vstack((mat1, mat2))\n",
    "total_rhs = np.vstack((rhs1[:, np.newaxis], \n",
    "                       rhs2[:, np.newaxis]))\n",
    "rho, err, rank, eigs = np.linalg.lstsq(total_mat, total_rhs)"
   ]
  },
  {
   "cell_type": "code",
   "execution_count": 260,
   "metadata": {
    "collapsed": false
   },
   "outputs": [
    {
     "data": {
      "text/plain": [
       "array([[ 0.05618364],\n",
       "       [ 0.20798309],\n",
       "       [ 0.07109296],\n",
       "       [ 0.13408866],\n",
       "       [ 0.03335705],\n",
       "       [ 0.00464332]])"
      ]
     },
     "execution_count": 260,
     "metadata": {},
     "output_type": "execute_result"
    }
   ],
   "source": [
    "rho"
   ]
  },
  {
   "cell_type": "code",
   "execution_count": 261,
   "metadata": {
    "collapsed": false
   },
   "outputs": [
    {
     "data": {
      "text/plain": [
       "array([ 1.02619521])"
      ]
     },
     "execution_count": 261,
     "metadata": {},
     "output_type": "execute_result"
    }
   ],
   "source": [
    "err"
   ]
  },
  {
   "cell_type": "code",
   "execution_count": 262,
   "metadata": {
    "collapsed": false
   },
   "outputs": [
    {
     "data": {
      "text/plain": [
       "array([[  1.91713366e-01],\n",
       "       [ -4.20425924e-02],\n",
       "       [  2.93882053e-02],\n",
       "       [ -4.98130452e-02],\n",
       "       [ -8.59553762e-02],\n",
       "       [ -2.00537949e-01],\n",
       "       [ -2.58939590e-01],\n",
       "       [ -4.93283586e-01],\n",
       "       [ -1.05490662e-01],\n",
       "       [ -1.33810752e-05]])"
      ]
     },
     "execution_count": 262,
     "metadata": {},
     "output_type": "execute_result"
    }
   ],
   "source": [
    "np.dot(total_mat, rho)"
   ]
  },
  {
   "cell_type": "code",
   "execution_count": 263,
   "metadata": {
    "collapsed": false
   },
   "outputs": [
    {
     "data": {
      "text/plain": [
       "array([[ 0.64502777],\n",
       "       [ 0.45892044],\n",
       "       [ 0.62467312],\n",
       "       [ 0.28201325],\n",
       "       [ 0.214406  ],\n",
       "       [-0.19490746],\n",
       "       [-0.22930836],\n",
       "       [-0.41614216],\n",
       "       [-0.16105407],\n",
       "       [-0.07142575]])"
      ]
     },
     "execution_count": 263,
     "metadata": {},
     "output_type": "execute_result"
    }
   ],
   "source": [
    "total_rhs"
   ]
  },
  {
   "cell_type": "markdown",
   "metadata": {},
   "source": [
    "On peut remarquer que l'inversion ne donne pas des valeurs satisfaisantes car les signes du produit matrice vecteur ne respectent pas celles observées (que des moins ou que des plus). On peut imaginer faire plus de mesures pour voir ce que ça donne : je vais rajouter un désaccordage."
   ]
  },
  {
   "cell_type": "code",
   "execution_count": 264,
   "metadata": {
    "collapsed": true
   },
   "outputs": [],
   "source": [
    "history = np.vstack((history,\n",
    "                     np.array([82.3,109.5,151.3,204.0,251.1,333.3])))"
   ]
  },
  {
   "cell_type": "code",
   "execution_count": 265,
   "metadata": {
    "collapsed": false
   },
   "outputs": [
    {
     "data": {
      "text/plain": [
       "array([[  83.7,  112.7,  151.3,  204.2,  251.2,  333.4],\n",
       "       [  84.9,  112.3,  150.9,  203.3,  250.5,  332.8],\n",
       "       [  85. ,  109.4,  151.1,  203.9,  250.9,  333. ],\n",
       "       [  82.3,  109.5,  151.3,  204. ,  251.1,  333.3]])"
      ]
     },
     "execution_count": 265,
     "metadata": {},
     "output_type": "execute_result"
    }
   ],
   "source": [
    "history"
   ]
  },
  {
   "cell_type": "code",
   "execution_count": 268,
   "metadata": {
    "collapsed": true
   },
   "outputs": [],
   "source": [
    "T = (history ** 2) * psi"
   ]
  },
  {
   "cell_type": "code",
   "execution_count": 269,
   "metadata": {
    "collapsed": false
   },
   "outputs": [],
   "source": [
    "mat3, rhs3 = make_matrix(T[3, :], T[2, :])"
   ]
  },
  {
   "cell_type": "code",
   "execution_count": 270,
   "metadata": {
    "collapsed": true
   },
   "outputs": [],
   "source": [
    "total_mat = np.vstack((mat1, mat2, mat3))\n",
    "total_rhs = np.vstack((rhs1[:, np.newaxis], \n",
    "                       rhs2[:, np.newaxis],\n",
    "                       rhs3[:, np.newaxis]))\n",
    "rho, err, rank, eigs = np.linalg.lstsq(total_mat, total_rhs)"
   ]
  },
  {
   "cell_type": "code",
   "execution_count": 271,
   "metadata": {
    "collapsed": false
   },
   "outputs": [
    {
     "data": {
      "text/plain": [
       "array([[ 0.04387418],\n",
       "       [ 0.05047254],\n",
       "       [ 0.05012372],\n",
       "       [ 0.05922661],\n",
       "       [ 0.01700319],\n",
       "       [ 0.00748409]])"
      ]
     },
     "execution_count": 271,
     "metadata": {},
     "output_type": "execute_result"
    }
   ],
   "source": [
    "rho"
   ]
  },
  {
   "cell_type": "code",
   "execution_count": 272,
   "metadata": {
    "collapsed": false
   },
   "outputs": [
    {
     "data": {
      "text/plain": [
       "array([ 1.2347814])"
      ]
     },
     "execution_count": 272,
     "metadata": {},
     "output_type": "execute_result"
    }
   ],
   "source": [
    "err"
   ]
  },
  {
   "cell_type": "code",
   "execution_count": 273,
   "metadata": {
    "collapsed": false
   },
   "outputs": [
    {
     "data": {
      "text/plain": [
       "array([[-0.00173873],\n",
       "       [ 0.03175313],\n",
       "       [ 0.02233097],\n",
       "       [-0.01251362],\n",
       "       [-0.02214667],\n",
       "       [-0.16752885],\n",
       "       [-0.19021247],\n",
       "       [-0.19895477],\n",
       "       [-0.04972716],\n",
       "       [-0.02179249],\n",
       "       [-0.23263164],\n",
       "       [-0.21741973],\n",
       "       [-0.29410528],\n",
       "       [-0.07325027],\n",
       "       [-0.01902078]])"
      ]
     },
     "execution_count": 273,
     "metadata": {},
     "output_type": "execute_result"
    }
   ],
   "source": [
    "np.dot(total_mat, rho)"
   ]
  },
  {
   "cell_type": "code",
   "execution_count": 274,
   "metadata": {
    "collapsed": false
   },
   "outputs": [
    {
     "data": {
      "text/plain": [
       "array([[ 0.64502777],\n",
       "       [ 0.45892044],\n",
       "       [ 0.62467312],\n",
       "       [ 0.28201325],\n",
       "       [ 0.214406  ],\n",
       "       [-0.19490746],\n",
       "       [-0.22930836],\n",
       "       [-0.41614216],\n",
       "       [-0.16105407],\n",
       "       [-0.07142575],\n",
       "       [-0.15688509],\n",
       "       [-0.22961208],\n",
       "       [-0.06947626],\n",
       "       [-0.0806234 ],\n",
       "       [-0.10721909]])"
      ]
     },
     "execution_count": 274,
     "metadata": {},
     "output_type": "execute_result"
    }
   ],
   "source": [
    "total_rhs"
   ]
  },
  {
   "cell_type": "markdown",
   "metadata": {},
   "source": [
    "On laisse tomber et on recommence la procédure de calibration, avec un précision supérieure :"
   ]
  },
  {
   "cell_type": "code",
   "execution_count": 275,
   "metadata": {
    "collapsed": false
   },
   "outputs": [
    {
     "data": {
      "text/plain": [
       "array([[  81.08,  110.53,  151.17,  203.89,  251.09,  333.24],\n",
       "       [  82.9 ,  110.47,  151.04,  203.57,  250.96,  333.19],\n",
       "       [  82.87,  112.37,  150.96,  203.42,  250.69,  333.02]])"
      ]
     },
     "execution_count": 275,
     "metadata": {},
     "output_type": "execute_result"
    }
   ],
   "source": [
    "history = np.array([[81.08,110.53,151.17,203.89,251.09,333.24],\n",
    "                    [82.9,110.47,151.04,203.57,250.96,333.19],\n",
    "                    [82.87,112.37,150.96,203.42,250.69,333.02]]) \n",
    "history"
   ]
  },
  {
   "cell_type": "code",
   "execution_count": 276,
   "metadata": {
    "collapsed": true
   },
   "outputs": [],
   "source": [
    "T = (history ** 2) * psi"
   ]
  },
  {
   "cell_type": "code",
   "execution_count": 277,
   "metadata": {
    "collapsed": false
   },
   "outputs": [
    {
     "data": {
      "text/plain": [
       "array([ 43.90750437,  44.2018119 ,  44.46809096])"
      ]
     },
     "execution_count": 277,
     "metadata": {},
     "output_type": "execute_result"
    }
   ],
   "source": [
    "T.sum(axis=1) / 9.81"
   ]
  },
  {
   "cell_type": "code",
   "execution_count": 278,
   "metadata": {
    "collapsed": true
   },
   "outputs": [],
   "source": [
    "mat1, rhs1 = make_matrix(T[1, :], T[0, :])\n",
    "mat2, rhs2 = make_matrix(T[2, :], T[1, :])\n",
    "total_mat = np.vstack((mat1, mat2))\n",
    "total_rhs = np.vstack((rhs1[:, np.newaxis], \n",
    "                       rhs2[:, np.newaxis]))\n",
    "rho, err, rank, eigs = np.linalg.lstsq(total_mat, total_rhs)"
   ]
  },
  {
   "cell_type": "code",
   "execution_count": 279,
   "metadata": {
    "collapsed": false
   },
   "outputs": [
    {
     "data": {
      "text/plain": [
       "array([[ 0.02215722],\n",
       "       [ 0.03137893],\n",
       "       [ 0.04359332],\n",
       "       [ 0.05969175],\n",
       "       [ 0.02787037],\n",
       "       [ 0.01310833]])"
      ]
     },
     "execution_count": 279,
     "metadata": {},
     "output_type": "execute_result"
    }
   ],
   "source": [
    "rho"
   ]
  },
  {
   "cell_type": "code",
   "execution_count": 280,
   "metadata": {
    "collapsed": false
   },
   "outputs": [
    {
     "data": {
      "text/plain": [
       "array([ 0.01260648])"
      ]
     },
     "execution_count": 280,
     "metadata": {},
     "output_type": "execute_result"
    }
   ],
   "source": [
    "err"
   ]
  },
  {
   "cell_type": "code",
   "execution_count": 281,
   "metadata": {
    "collapsed": false
   },
   "outputs": [
    {
     "data": {
      "text/plain": [
       "array([[ 0.09074039],\n",
       "       [ 0.12305319],\n",
       "       [ 0.16535995],\n",
       "       [ 0.08621463],\n",
       "       [ 0.04173985],\n",
       "       [ 0.05774091],\n",
       "       [ 0.11701787],\n",
       "       [ 0.16382797],\n",
       "       [ 0.06647086],\n",
       "       [ 0.02966687]])"
      ]
     },
     "execution_count": 281,
     "metadata": {},
     "output_type": "execute_result"
    }
   ],
   "source": [
    "np.dot(total_mat, rho)"
   ]
  },
  {
   "cell_type": "code",
   "execution_count": 282,
   "metadata": {
    "collapsed": false
   },
   "outputs": [
    {
     "data": {
      "text/plain": [
       "array([[ 0.09503409],\n",
       "       [ 0.14915408],\n",
       "       [ 0.2220842 ],\n",
       "       [ 0.05241043],\n",
       "       [ 0.01787333],\n",
       "       [ 0.05705087],\n",
       "       [ 0.09172334],\n",
       "       [ 0.10398189],\n",
       "       [ 0.1087657 ],\n",
       "       [ 0.06074928]])"
      ]
     },
     "execution_count": 282,
     "metadata": {},
     "output_type": "execute_result"
    }
   ],
   "source": [
    "total_rhs"
   ]
  },
  {
   "cell_type": "markdown",
   "metadata": {},
   "source": [
    "Tout est de même signe, c'est pas si mal. Et l'erreur est faible."
   ]
  },
  {
   "cell_type": "markdown",
   "metadata": {},
   "source": [
    "## Accordage "
   ]
  },
  {
   "cell_type": "code",
   "execution_count": 286,
   "metadata": {
    "collapsed": true
   },
   "outputs": [],
   "source": [
    "tuning_mat = compute_tuning_matrix(psi, rho)"
   ]
  },
  {
   "cell_type": "code",
   "execution_count": 287,
   "metadata": {
    "collapsed": false
   },
   "outputs": [
    {
     "data": {
      "text/plain": [
       "array([ -108.74905696,  -586.32552748, -1383.34495944, -3387.03863802,\n",
       "       -2423.31722246, -2655.85641727])"
      ]
     },
     "execution_count": 287,
     "metadata": {},
     "output_type": "execute_result"
    }
   ],
   "source": [
    "target_freqs = freqs.copy()\n",
    "current_freqs = history[2, :]\n",
    "target_dF = target_freqs**2 - current_freqs**2\n",
    "Delta_F = np.linalg.solve(tuning_mat, target_dF)\n",
    "Delta_F"
   ]
  },
  {
   "cell_type": "code",
   "execution_count": 288,
   "metadata": {
    "collapsed": false
   },
   "outputs": [
    {
     "data": {
      "text/plain": [
       "array([  82.87,  112.37,  150.96,  203.42,  250.69,  333.02])"
      ]
     },
     "execution_count": 288,
     "metadata": {},
     "output_type": "execute_result"
    }
   ],
   "source": [
    "initial_freqs = current_freqs.copy()\n",
    "initial_freqs"
   ]
  },
  {
   "cell_type": "code",
   "execution_count": 294,
   "metadata": {
    "collapsed": false
   },
   "outputs": [
    {
     "name": "stdout",
     "output_type": "stream",
     "text": [
      "string: low E, target frequency: 82.2\n",
      "string: A, target frequency: 109.8\n",
      "string: D, target frequency: 146.5\n",
      "string: G, target frequency: 195.7\n",
      "string: B, target frequency: 246.8\n",
      "string: high E, target frequency: 329.6\n"
     ]
    }
   ],
   "source": [
    "for target, string in zip([tuning_step(tuning_mat, initial_freqs, Delta_F, i)[i-1] for i in range(1, 7)],\n",
    "                          [\"low E\", \"A\", \"D\", \"G\", \"B\", \"high E\"]):\n",
    "    print(\"string: {}, target frequency: {:.1f}\".format(string, target))"
   ]
  },
  {
   "cell_type": "markdown",
   "metadata": {},
   "source": [
    "Mi grave :"
   ]
  },
  {
   "cell_type": "code",
   "execution_count": 290,
   "metadata": {
    "collapsed": false
   },
   "outputs": [
    {
     "name": "stdout",
     "output_type": "stream",
     "text": [
      "82.2, 112.4, 150.9, 203.4, 250.7, 333.1\n",
      "82.2, 112.4, 151.0, 203.5, 250.8, 333.1\n"
     ]
    }
   ],
   "source": [
    "measured_freqs = [82.18,112.37,150.94,203.43,250.67,333.08]\n",
    "expected_freqs = tuning_step(tuning_mat, initial_freqs, Delta_F, 1)\n",
    "print_strings(measured_freqs)\n",
    "print_strings(expected_freqs)"
   ]
  },
  {
   "cell_type": "markdown",
   "metadata": {},
   "source": [
    "La :"
   ]
  },
  {
   "cell_type": "code",
   "execution_count": 291,
   "metadata": {
    "collapsed": false
   },
   "outputs": [
    {
     "name": "stdout",
     "output_type": "stream",
     "text": [
      "82.4, 109.8, 150.9, 203.9, 251.1, 333.3\n",
      "82.3, 109.8, 151.1, 203.8, 251.0, 333.2\n"
     ]
    }
   ],
   "source": [
    "measured_freqs = [82.44,109.75,150.91,203.92,251.13,333.26]\n",
    "expected_freqs = tuning_step(tuning_mat, initial_freqs, Delta_F, 2)\n",
    "print_strings(measured_freqs)\n",
    "print_strings(expected_freqs)"
   ]
  },
  {
   "cell_type": "markdown",
   "metadata": {},
   "source": [
    "Re :"
   ]
  },
  {
   "cell_type": "code",
   "execution_count": 292,
   "metadata": {
    "collapsed": false
   },
   "outputs": [
    {
     "name": "stdout",
     "output_type": "stream",
     "text": [
      "82.7, 110.1, 146.7, 204.5, 251.6, 333.5\n",
      "82.3, 109.8, 146.5, 204.2, 251.3, 333.4\n"
     ]
    }
   ],
   "source": [
    "measured_freqs = [82.66,110.12,146.65,204.46,251.57,333.51]\n",
    "expected_freqs = tuning_step(tuning_mat, initial_freqs, Delta_F, 3)\n",
    "print_strings(measured_freqs)\n",
    "print_strings(expected_freqs)"
   ]
  },
  {
   "cell_type": "markdown",
   "metadata": {},
   "source": [
    "Sol :"
   ]
  },
  {
   "cell_type": "code",
   "execution_count": 296,
   "metadata": {
    "collapsed": false
   },
   "outputs": [
    {
     "name": "stdout",
     "output_type": "stream",
     "text": [
      "82.9, 110.4, 147.0, 195.8, 251.9, 334.0\n",
      "82.4, 109.9, 146.7, 195.7, 251.7, 333.5\n"
     ]
    }
   ],
   "source": [
    "measured_freqs = [82.86,110.39,146.96,195.81,251.94,333.99]\n",
    "expected_freqs = tuning_step(tuning_mat, initial_freqs, Delta_F, 4)\n",
    "print_strings(measured_freqs)\n",
    "print_strings(expected_freqs)"
   ]
  },
  {
   "cell_type": "markdown",
   "metadata": {},
   "source": [
    "Si :"
   ]
  },
  {
   "cell_type": "code",
   "execution_count": 298,
   "metadata": {
    "collapsed": false
   },
   "outputs": [
    {
     "name": "stdout",
     "output_type": "stream",
     "text": [
      "83.0, 110.5, 147.1, 196.3, 246.5, 334.2\n",
      "82.4, 110.0, 146.8, 195.9, 246.8, 333.6\n"
     ]
    }
   ],
   "source": [
    "measured_freqs = [82.97,110.52,147.1,196.29,246.53,334.24]\n",
    "expected_freqs = tuning_step(tuning_mat, initial_freqs, Delta_F, 5)\n",
    "print_strings(measured_freqs)\n",
    "print_strings(expected_freqs)"
   ]
  },
  {
   "cell_type": "markdown",
   "metadata": {},
   "source": [
    "Mi :"
   ]
  },
  {
   "cell_type": "code",
   "execution_count": 300,
   "metadata": {
    "collapsed": false
   },
   "outputs": [
    {
     "name": "stdout",
     "output_type": "stream",
     "text": [
      "83.2, 110.8, 147.2, 196.6, 246.7, 329.8\n",
      "82.4, 110.0, 146.8, 196.0, 246.9, 329.6\n"
     ]
    }
   ],
   "source": [
    "measured_freqs = [83.2,110.75,147.17,196.55,246.67,329.84]\n",
    "expected_freqs = tuning_step(tuning_mat, initial_freqs, Delta_F, 6)\n",
    "print_strings(measured_freqs)\n",
    "print_strings(expected_freqs)"
   ]
  },
  {
   "cell_type": "markdown",
   "metadata": {},
   "source": [
    "Même si l'accord n'est pas parfait, on a atteint le but. Je reserre les boulons du manche et remesure :\n",
    "\n",
    "- 83.62,111.07,148.34,197.48,247.28,329.57"
   ]
  },
  {
   "cell_type": "markdown",
   "metadata": {},
   "source": [
    "On peut maintenant utiliser les vis de tuning fines pour arriver à un accordage parfait."
   ]
  },
  {
   "cell_type": "markdown",
   "metadata": {},
   "source": [
    "**to do pour la suite**\n",
    "\n",
    "- écrire des fonctions pour donner la suite d'accordage\n",
    "- comprendre pourquoi parfois la procédure de calibration ne marche pas \n",
    "- réfléchir à comment coder un logiciel pour faire l'accordage itératif"
   ]
  }
 ],
 "metadata": {
  "kernelspec": {
   "display_name": "Python 3",
   "language": "python",
   "name": "python3"
  },
  "language_info": {
   "codemirror_mode": {
    "name": "ipython",
    "version": 3
   },
   "file_extension": ".py",
   "mimetype": "text/x-python",
   "name": "python",
   "nbconvert_exporter": "python",
   "pygments_lexer": "ipython3",
   "version": "3.4.3"
  }
 },
 "nbformat": 4,
 "nbformat_minor": 0
}
